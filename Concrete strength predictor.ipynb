{
 "cells": [
  {
   "cell_type": "code",
   "execution_count": 1,
   "id": "a51ac6d2",
   "metadata": {},
   "outputs": [],
   "source": [
    "import pandas as pd\n",
    "import numpy as np\n",
    "from matplotlib import pyplot as plt\n",
    "%matplotlib inline"
   ]
  },
  {
   "cell_type": "code",
   "execution_count": 2,
   "id": "b0e883f7",
   "metadata": {},
   "outputs": [
    {
     "data": {
      "text/html": [
       "<div>\n",
       "<style scoped>\n",
       "    .dataframe tbody tr th:only-of-type {\n",
       "        vertical-align: middle;\n",
       "    }\n",
       "\n",
       "    .dataframe tbody tr th {\n",
       "        vertical-align: top;\n",
       "    }\n",
       "\n",
       "    .dataframe thead th {\n",
       "        text-align: right;\n",
       "    }\n",
       "</style>\n",
       "<table border=\"1\" class=\"dataframe\">\n",
       "  <thead>\n",
       "    <tr style=\"text-align: right;\">\n",
       "      <th></th>\n",
       "      <th>Cement</th>\n",
       "      <th>Blast Furnace Slag</th>\n",
       "      <th>Fly Ash</th>\n",
       "      <th>Water</th>\n",
       "      <th>Superplasticizer</th>\n",
       "      <th>Coarse Aggregate</th>\n",
       "      <th>Fine Aggregate</th>\n",
       "      <th>Age</th>\n",
       "      <th>Strength</th>\n",
       "    </tr>\n",
       "  </thead>\n",
       "  <tbody>\n",
       "    <tr>\n",
       "      <th>0</th>\n",
       "      <td>540.0</td>\n",
       "      <td>0.0</td>\n",
       "      <td>0.0</td>\n",
       "      <td>162.0</td>\n",
       "      <td>2.5</td>\n",
       "      <td>1040.0</td>\n",
       "      <td>676.0</td>\n",
       "      <td>28</td>\n",
       "      <td>79.99</td>\n",
       "    </tr>\n",
       "    <tr>\n",
       "      <th>1</th>\n",
       "      <td>540.0</td>\n",
       "      <td>0.0</td>\n",
       "      <td>0.0</td>\n",
       "      <td>162.0</td>\n",
       "      <td>2.5</td>\n",
       "      <td>1055.0</td>\n",
       "      <td>676.0</td>\n",
       "      <td>28</td>\n",
       "      <td>61.89</td>\n",
       "    </tr>\n",
       "    <tr>\n",
       "      <th>2</th>\n",
       "      <td>332.5</td>\n",
       "      <td>142.5</td>\n",
       "      <td>0.0</td>\n",
       "      <td>228.0</td>\n",
       "      <td>0.0</td>\n",
       "      <td>932.0</td>\n",
       "      <td>594.0</td>\n",
       "      <td>270</td>\n",
       "      <td>40.27</td>\n",
       "    </tr>\n",
       "    <tr>\n",
       "      <th>3</th>\n",
       "      <td>332.5</td>\n",
       "      <td>142.5</td>\n",
       "      <td>0.0</td>\n",
       "      <td>228.0</td>\n",
       "      <td>0.0</td>\n",
       "      <td>932.0</td>\n",
       "      <td>594.0</td>\n",
       "      <td>365</td>\n",
       "      <td>41.05</td>\n",
       "    </tr>\n",
       "    <tr>\n",
       "      <th>4</th>\n",
       "      <td>198.6</td>\n",
       "      <td>132.4</td>\n",
       "      <td>0.0</td>\n",
       "      <td>192.0</td>\n",
       "      <td>0.0</td>\n",
       "      <td>978.4</td>\n",
       "      <td>825.5</td>\n",
       "      <td>360</td>\n",
       "      <td>44.30</td>\n",
       "    </tr>\n",
       "  </tbody>\n",
       "</table>\n",
       "</div>"
      ],
      "text/plain": [
       "   Cement  Blast Furnace Slag  Fly Ash  Water  Superplasticizer  \\\n",
       "0   540.0                 0.0      0.0  162.0               2.5   \n",
       "1   540.0                 0.0      0.0  162.0               2.5   \n",
       "2   332.5               142.5      0.0  228.0               0.0   \n",
       "3   332.5               142.5      0.0  228.0               0.0   \n",
       "4   198.6               132.4      0.0  192.0               0.0   \n",
       "\n",
       "   Coarse Aggregate  Fine Aggregate  Age  Strength  \n",
       "0            1040.0           676.0   28     79.99  \n",
       "1            1055.0           676.0   28     61.89  \n",
       "2             932.0           594.0  270     40.27  \n",
       "3             932.0           594.0  365     41.05  \n",
       "4             978.4           825.5  360     44.30  "
      ]
     },
     "execution_count": 2,
     "metadata": {},
     "output_type": "execute_result"
    }
   ],
   "source": [
    "df0=pd.read_csv(\"C:\\\\Users\\\\ACER\\\\Downloads\\\\concrete_data.csv\")\n",
    "df0.head()"
   ]
  },
  {
   "cell_type": "code",
   "execution_count": 3,
   "id": "572134ed",
   "metadata": {},
   "outputs": [
    {
     "data": {
      "text/html": [
       "<div>\n",
       "<style scoped>\n",
       "    .dataframe tbody tr th:only-of-type {\n",
       "        vertical-align: middle;\n",
       "    }\n",
       "\n",
       "    .dataframe tbody tr th {\n",
       "        vertical-align: top;\n",
       "    }\n",
       "\n",
       "    .dataframe thead th {\n",
       "        text-align: right;\n",
       "    }\n",
       "</style>\n",
       "<table border=\"1\" class=\"dataframe\">\n",
       "  <thead>\n",
       "    <tr style=\"text-align: right;\">\n",
       "      <th></th>\n",
       "      <th>Cement</th>\n",
       "      <th>Blast Furnace Slag</th>\n",
       "      <th>Fly Ash</th>\n",
       "      <th>Water</th>\n",
       "      <th>Superplasticizer</th>\n",
       "      <th>Coarse Aggregate</th>\n",
       "      <th>Fine Aggregate</th>\n",
       "      <th>Age</th>\n",
       "      <th>Strength</th>\n",
       "    </tr>\n",
       "  </thead>\n",
       "  <tbody>\n",
       "    <tr>\n",
       "      <th>count</th>\n",
       "      <td>1030.000000</td>\n",
       "      <td>1030.000000</td>\n",
       "      <td>1030.000000</td>\n",
       "      <td>1030.000000</td>\n",
       "      <td>1030.000000</td>\n",
       "      <td>1030.000000</td>\n",
       "      <td>1030.000000</td>\n",
       "      <td>1030.000000</td>\n",
       "      <td>1030.000000</td>\n",
       "    </tr>\n",
       "    <tr>\n",
       "      <th>mean</th>\n",
       "      <td>281.167864</td>\n",
       "      <td>73.895825</td>\n",
       "      <td>54.188350</td>\n",
       "      <td>181.567282</td>\n",
       "      <td>6.204660</td>\n",
       "      <td>972.918932</td>\n",
       "      <td>773.580485</td>\n",
       "      <td>45.662136</td>\n",
       "      <td>35.817961</td>\n",
       "    </tr>\n",
       "    <tr>\n",
       "      <th>std</th>\n",
       "      <td>104.506364</td>\n",
       "      <td>86.279342</td>\n",
       "      <td>63.997004</td>\n",
       "      <td>21.354219</td>\n",
       "      <td>5.973841</td>\n",
       "      <td>77.753954</td>\n",
       "      <td>80.175980</td>\n",
       "      <td>63.169912</td>\n",
       "      <td>16.705742</td>\n",
       "    </tr>\n",
       "    <tr>\n",
       "      <th>min</th>\n",
       "      <td>102.000000</td>\n",
       "      <td>0.000000</td>\n",
       "      <td>0.000000</td>\n",
       "      <td>121.800000</td>\n",
       "      <td>0.000000</td>\n",
       "      <td>801.000000</td>\n",
       "      <td>594.000000</td>\n",
       "      <td>1.000000</td>\n",
       "      <td>2.330000</td>\n",
       "    </tr>\n",
       "    <tr>\n",
       "      <th>25%</th>\n",
       "      <td>192.375000</td>\n",
       "      <td>0.000000</td>\n",
       "      <td>0.000000</td>\n",
       "      <td>164.900000</td>\n",
       "      <td>0.000000</td>\n",
       "      <td>932.000000</td>\n",
       "      <td>730.950000</td>\n",
       "      <td>7.000000</td>\n",
       "      <td>23.710000</td>\n",
       "    </tr>\n",
       "    <tr>\n",
       "      <th>50%</th>\n",
       "      <td>272.900000</td>\n",
       "      <td>22.000000</td>\n",
       "      <td>0.000000</td>\n",
       "      <td>185.000000</td>\n",
       "      <td>6.400000</td>\n",
       "      <td>968.000000</td>\n",
       "      <td>779.500000</td>\n",
       "      <td>28.000000</td>\n",
       "      <td>34.445000</td>\n",
       "    </tr>\n",
       "    <tr>\n",
       "      <th>75%</th>\n",
       "      <td>350.000000</td>\n",
       "      <td>142.950000</td>\n",
       "      <td>118.300000</td>\n",
       "      <td>192.000000</td>\n",
       "      <td>10.200000</td>\n",
       "      <td>1029.400000</td>\n",
       "      <td>824.000000</td>\n",
       "      <td>56.000000</td>\n",
       "      <td>46.135000</td>\n",
       "    </tr>\n",
       "    <tr>\n",
       "      <th>max</th>\n",
       "      <td>540.000000</td>\n",
       "      <td>359.400000</td>\n",
       "      <td>200.100000</td>\n",
       "      <td>247.000000</td>\n",
       "      <td>32.200000</td>\n",
       "      <td>1145.000000</td>\n",
       "      <td>992.600000</td>\n",
       "      <td>365.000000</td>\n",
       "      <td>82.600000</td>\n",
       "    </tr>\n",
       "  </tbody>\n",
       "</table>\n",
       "</div>"
      ],
      "text/plain": [
       "            Cement  Blast Furnace Slag      Fly Ash        Water  \\\n",
       "count  1030.000000         1030.000000  1030.000000  1030.000000   \n",
       "mean    281.167864           73.895825    54.188350   181.567282   \n",
       "std     104.506364           86.279342    63.997004    21.354219   \n",
       "min     102.000000            0.000000     0.000000   121.800000   \n",
       "25%     192.375000            0.000000     0.000000   164.900000   \n",
       "50%     272.900000           22.000000     0.000000   185.000000   \n",
       "75%     350.000000          142.950000   118.300000   192.000000   \n",
       "max     540.000000          359.400000   200.100000   247.000000   \n",
       "\n",
       "       Superplasticizer  Coarse Aggregate  Fine Aggregate          Age  \\\n",
       "count       1030.000000       1030.000000     1030.000000  1030.000000   \n",
       "mean           6.204660        972.918932      773.580485    45.662136   \n",
       "std            5.973841         77.753954       80.175980    63.169912   \n",
       "min            0.000000        801.000000      594.000000     1.000000   \n",
       "25%            0.000000        932.000000      730.950000     7.000000   \n",
       "50%            6.400000        968.000000      779.500000    28.000000   \n",
       "75%           10.200000       1029.400000      824.000000    56.000000   \n",
       "max           32.200000       1145.000000      992.600000   365.000000   \n",
       "\n",
       "          Strength  \n",
       "count  1030.000000  \n",
       "mean     35.817961  \n",
       "std      16.705742  \n",
       "min       2.330000  \n",
       "25%      23.710000  \n",
       "50%      34.445000  \n",
       "75%      46.135000  \n",
       "max      82.600000  "
      ]
     },
     "execution_count": 3,
     "metadata": {},
     "output_type": "execute_result"
    }
   ],
   "source": [
    "df0.describe()"
   ]
  },
  {
   "cell_type": "code",
   "execution_count": 4,
   "id": "2c3e4323",
   "metadata": {},
   "outputs": [
    {
     "data": {
      "text/plain": [
       "(1030, 9)"
      ]
     },
     "execution_count": 4,
     "metadata": {},
     "output_type": "execute_result"
    }
   ],
   "source": [
    "df0.shape"
   ]
  },
  {
   "cell_type": "code",
   "execution_count": 5,
   "id": "ee643653",
   "metadata": {},
   "outputs": [
    {
     "data": {
      "text/plain": [
       "(1.0579999999999998, 270.0)"
      ]
     },
     "execution_count": 5,
     "metadata": {},
     "output_type": "execute_result"
    }
   ],
   "source": [
    "min_threshold, max_threshold=df0.Age.quantile([0.001,0.97])\n",
    "min_threshold, max_threshold"
   ]
  },
  {
   "cell_type": "code",
   "execution_count": 6,
   "id": "686effdc",
   "metadata": {},
   "outputs": [
    {
     "data": {
      "text/html": [
       "<div>\n",
       "<style scoped>\n",
       "    .dataframe tbody tr th:only-of-type {\n",
       "        vertical-align: middle;\n",
       "    }\n",
       "\n",
       "    .dataframe tbody tr th {\n",
       "        vertical-align: top;\n",
       "    }\n",
       "\n",
       "    .dataframe thead th {\n",
       "        text-align: right;\n",
       "    }\n",
       "</style>\n",
       "<table border=\"1\" class=\"dataframe\">\n",
       "  <thead>\n",
       "    <tr style=\"text-align: right;\">\n",
       "      <th></th>\n",
       "      <th>Cement</th>\n",
       "      <th>Blast Furnace Slag</th>\n",
       "      <th>Fly Ash</th>\n",
       "      <th>Water</th>\n",
       "      <th>Superplasticizer</th>\n",
       "      <th>Coarse Aggregate</th>\n",
       "      <th>Fine Aggregate</th>\n",
       "      <th>Age</th>\n",
       "      <th>Strength</th>\n",
       "    </tr>\n",
       "  </thead>\n",
       "  <tbody>\n",
       "    <tr>\n",
       "      <th>746</th>\n",
       "      <td>500.0</td>\n",
       "      <td>0.0</td>\n",
       "      <td>0.0</td>\n",
       "      <td>200.0</td>\n",
       "      <td>0.0</td>\n",
       "      <td>1125.0</td>\n",
       "      <td>613.0</td>\n",
       "      <td>1</td>\n",
       "      <td>12.64</td>\n",
       "    </tr>\n",
       "    <tr>\n",
       "      <th>763</th>\n",
       "      <td>385.0</td>\n",
       "      <td>0.0</td>\n",
       "      <td>0.0</td>\n",
       "      <td>186.0</td>\n",
       "      <td>0.0</td>\n",
       "      <td>966.0</td>\n",
       "      <td>763.0</td>\n",
       "      <td>1</td>\n",
       "      <td>6.27</td>\n",
       "    </tr>\n",
       "  </tbody>\n",
       "</table>\n",
       "</div>"
      ],
      "text/plain": [
       "     Cement  Blast Furnace Slag  Fly Ash  Water  Superplasticizer  \\\n",
       "746   500.0                 0.0      0.0  200.0               0.0   \n",
       "763   385.0                 0.0      0.0  186.0               0.0   \n",
       "\n",
       "     Coarse Aggregate  Fine Aggregate  Age  Strength  \n",
       "746            1125.0           613.0    1     12.64  \n",
       "763             966.0           763.0    1      6.27  "
      ]
     },
     "execution_count": 6,
     "metadata": {},
     "output_type": "execute_result"
    }
   ],
   "source": [
    "df0[df0['Age']<min_threshold]"
   ]
  },
  {
   "cell_type": "code",
   "execution_count": 7,
   "id": "84991445",
   "metadata": {},
   "outputs": [
    {
     "data": {
      "text/html": [
       "<div>\n",
       "<style scoped>\n",
       "    .dataframe tbody tr th:only-of-type {\n",
       "        vertical-align: middle;\n",
       "    }\n",
       "\n",
       "    .dataframe tbody tr th {\n",
       "        vertical-align: top;\n",
       "    }\n",
       "\n",
       "    .dataframe thead th {\n",
       "        text-align: right;\n",
       "    }\n",
       "</style>\n",
       "<table border=\"1\" class=\"dataframe\">\n",
       "  <thead>\n",
       "    <tr style=\"text-align: right;\">\n",
       "      <th></th>\n",
       "      <th>Cement</th>\n",
       "      <th>Blast Furnace Slag</th>\n",
       "      <th>Fly Ash</th>\n",
       "      <th>Water</th>\n",
       "      <th>Superplasticizer</th>\n",
       "      <th>Coarse Aggregate</th>\n",
       "      <th>Fine Aggregate</th>\n",
       "      <th>Age</th>\n",
       "      <th>Strength</th>\n",
       "    </tr>\n",
       "  </thead>\n",
       "  <tbody>\n",
       "    <tr>\n",
       "      <th>3</th>\n",
       "      <td>332.5</td>\n",
       "      <td>142.5</td>\n",
       "      <td>0.0</td>\n",
       "      <td>228.0</td>\n",
       "      <td>0.0</td>\n",
       "      <td>932.0</td>\n",
       "      <td>594.0</td>\n",
       "      <td>365</td>\n",
       "      <td>41.05</td>\n",
       "    </tr>\n",
       "    <tr>\n",
       "      <th>4</th>\n",
       "      <td>198.6</td>\n",
       "      <td>132.4</td>\n",
       "      <td>0.0</td>\n",
       "      <td>192.0</td>\n",
       "      <td>0.0</td>\n",
       "      <td>978.4</td>\n",
       "      <td>825.5</td>\n",
       "      <td>360</td>\n",
       "      <td>44.30</td>\n",
       "    </tr>\n",
       "    <tr>\n",
       "      <th>6</th>\n",
       "      <td>380.0</td>\n",
       "      <td>95.0</td>\n",
       "      <td>0.0</td>\n",
       "      <td>228.0</td>\n",
       "      <td>0.0</td>\n",
       "      <td>932.0</td>\n",
       "      <td>594.0</td>\n",
       "      <td>365</td>\n",
       "      <td>43.70</td>\n",
       "    </tr>\n",
       "    <tr>\n",
       "      <th>17</th>\n",
       "      <td>342.0</td>\n",
       "      <td>38.0</td>\n",
       "      <td>0.0</td>\n",
       "      <td>228.0</td>\n",
       "      <td>0.0</td>\n",
       "      <td>932.0</td>\n",
       "      <td>670.0</td>\n",
       "      <td>365</td>\n",
       "      <td>56.14</td>\n",
       "    </tr>\n",
       "    <tr>\n",
       "      <th>24</th>\n",
       "      <td>380.0</td>\n",
       "      <td>0.0</td>\n",
       "      <td>0.0</td>\n",
       "      <td>228.0</td>\n",
       "      <td>0.0</td>\n",
       "      <td>932.0</td>\n",
       "      <td>670.0</td>\n",
       "      <td>365</td>\n",
       "      <td>52.52</td>\n",
       "    </tr>\n",
       "    <tr>\n",
       "      <th>30</th>\n",
       "      <td>304.0</td>\n",
       "      <td>76.0</td>\n",
       "      <td>0.0</td>\n",
       "      <td>228.0</td>\n",
       "      <td>0.0</td>\n",
       "      <td>932.0</td>\n",
       "      <td>670.0</td>\n",
       "      <td>365</td>\n",
       "      <td>55.26</td>\n",
       "    </tr>\n",
       "    <tr>\n",
       "      <th>31</th>\n",
       "      <td>266.0</td>\n",
       "      <td>114.0</td>\n",
       "      <td>0.0</td>\n",
       "      <td>228.0</td>\n",
       "      <td>0.0</td>\n",
       "      <td>932.0</td>\n",
       "      <td>670.0</td>\n",
       "      <td>365</td>\n",
       "      <td>52.91</td>\n",
       "    </tr>\n",
       "    <tr>\n",
       "      <th>34</th>\n",
       "      <td>190.0</td>\n",
       "      <td>190.0</td>\n",
       "      <td>0.0</td>\n",
       "      <td>228.0</td>\n",
       "      <td>0.0</td>\n",
       "      <td>932.0</td>\n",
       "      <td>670.0</td>\n",
       "      <td>365</td>\n",
       "      <td>53.69</td>\n",
       "    </tr>\n",
       "    <tr>\n",
       "      <th>41</th>\n",
       "      <td>427.5</td>\n",
       "      <td>47.5</td>\n",
       "      <td>0.0</td>\n",
       "      <td>228.0</td>\n",
       "      <td>0.0</td>\n",
       "      <td>932.0</td>\n",
       "      <td>594.0</td>\n",
       "      <td>365</td>\n",
       "      <td>43.70</td>\n",
       "    </tr>\n",
       "    <tr>\n",
       "      <th>42</th>\n",
       "      <td>237.5</td>\n",
       "      <td>237.5</td>\n",
       "      <td>0.0</td>\n",
       "      <td>228.0</td>\n",
       "      <td>0.0</td>\n",
       "      <td>932.0</td>\n",
       "      <td>594.0</td>\n",
       "      <td>365</td>\n",
       "      <td>39.00</td>\n",
       "    </tr>\n",
       "    <tr>\n",
       "      <th>56</th>\n",
       "      <td>475.0</td>\n",
       "      <td>0.0</td>\n",
       "      <td>0.0</td>\n",
       "      <td>228.0</td>\n",
       "      <td>0.0</td>\n",
       "      <td>932.0</td>\n",
       "      <td>594.0</td>\n",
       "      <td>365</td>\n",
       "      <td>41.93</td>\n",
       "    </tr>\n",
       "    <tr>\n",
       "      <th>66</th>\n",
       "      <td>139.6</td>\n",
       "      <td>209.4</td>\n",
       "      <td>0.0</td>\n",
       "      <td>192.0</td>\n",
       "      <td>0.0</td>\n",
       "      <td>1047.0</td>\n",
       "      <td>806.9</td>\n",
       "      <td>360</td>\n",
       "      <td>44.70</td>\n",
       "    </tr>\n",
       "    <tr>\n",
       "      <th>604</th>\n",
       "      <td>339.0</td>\n",
       "      <td>0.0</td>\n",
       "      <td>0.0</td>\n",
       "      <td>197.0</td>\n",
       "      <td>0.0</td>\n",
       "      <td>968.0</td>\n",
       "      <td>781.0</td>\n",
       "      <td>365</td>\n",
       "      <td>38.89</td>\n",
       "    </tr>\n",
       "    <tr>\n",
       "      <th>610</th>\n",
       "      <td>236.0</td>\n",
       "      <td>0.0</td>\n",
       "      <td>0.0</td>\n",
       "      <td>193.0</td>\n",
       "      <td>0.0</td>\n",
       "      <td>968.0</td>\n",
       "      <td>885.0</td>\n",
       "      <td>365</td>\n",
       "      <td>25.08</td>\n",
       "    </tr>\n",
       "    <tr>\n",
       "      <th>616</th>\n",
       "      <td>277.0</td>\n",
       "      <td>0.0</td>\n",
       "      <td>0.0</td>\n",
       "      <td>191.0</td>\n",
       "      <td>0.0</td>\n",
       "      <td>968.0</td>\n",
       "      <td>856.0</td>\n",
       "      <td>360</td>\n",
       "      <td>33.70</td>\n",
       "    </tr>\n",
       "    <tr>\n",
       "      <th>620</th>\n",
       "      <td>254.0</td>\n",
       "      <td>0.0</td>\n",
       "      <td>0.0</td>\n",
       "      <td>198.0</td>\n",
       "      <td>0.0</td>\n",
       "      <td>968.0</td>\n",
       "      <td>863.0</td>\n",
       "      <td>365</td>\n",
       "      <td>29.79</td>\n",
       "    </tr>\n",
       "    <tr>\n",
       "      <th>622</th>\n",
       "      <td>307.0</td>\n",
       "      <td>0.0</td>\n",
       "      <td>0.0</td>\n",
       "      <td>193.0</td>\n",
       "      <td>0.0</td>\n",
       "      <td>968.0</td>\n",
       "      <td>812.0</td>\n",
       "      <td>365</td>\n",
       "      <td>36.15</td>\n",
       "    </tr>\n",
       "    <tr>\n",
       "      <th>769</th>\n",
       "      <td>331.0</td>\n",
       "      <td>0.0</td>\n",
       "      <td>0.0</td>\n",
       "      <td>192.0</td>\n",
       "      <td>0.0</td>\n",
       "      <td>978.0</td>\n",
       "      <td>825.0</td>\n",
       "      <td>360</td>\n",
       "      <td>41.24</td>\n",
       "    </tr>\n",
       "    <tr>\n",
       "      <th>792</th>\n",
       "      <td>349.0</td>\n",
       "      <td>0.0</td>\n",
       "      <td>0.0</td>\n",
       "      <td>192.0</td>\n",
       "      <td>0.0</td>\n",
       "      <td>1047.0</td>\n",
       "      <td>806.0</td>\n",
       "      <td>360</td>\n",
       "      <td>42.13</td>\n",
       "    </tr>\n",
       "    <tr>\n",
       "      <th>814</th>\n",
       "      <td>310.0</td>\n",
       "      <td>0.0</td>\n",
       "      <td>0.0</td>\n",
       "      <td>192.0</td>\n",
       "      <td>0.0</td>\n",
       "      <td>970.0</td>\n",
       "      <td>850.0</td>\n",
       "      <td>360</td>\n",
       "      <td>38.11</td>\n",
       "    </tr>\n",
       "  </tbody>\n",
       "</table>\n",
       "</div>"
      ],
      "text/plain": [
       "     Cement  Blast Furnace Slag  Fly Ash  Water  Superplasticizer  \\\n",
       "3     332.5               142.5      0.0  228.0               0.0   \n",
       "4     198.6               132.4      0.0  192.0               0.0   \n",
       "6     380.0                95.0      0.0  228.0               0.0   \n",
       "17    342.0                38.0      0.0  228.0               0.0   \n",
       "24    380.0                 0.0      0.0  228.0               0.0   \n",
       "30    304.0                76.0      0.0  228.0               0.0   \n",
       "31    266.0               114.0      0.0  228.0               0.0   \n",
       "34    190.0               190.0      0.0  228.0               0.0   \n",
       "41    427.5                47.5      0.0  228.0               0.0   \n",
       "42    237.5               237.5      0.0  228.0               0.0   \n",
       "56    475.0                 0.0      0.0  228.0               0.0   \n",
       "66    139.6               209.4      0.0  192.0               0.0   \n",
       "604   339.0                 0.0      0.0  197.0               0.0   \n",
       "610   236.0                 0.0      0.0  193.0               0.0   \n",
       "616   277.0                 0.0      0.0  191.0               0.0   \n",
       "620   254.0                 0.0      0.0  198.0               0.0   \n",
       "622   307.0                 0.0      0.0  193.0               0.0   \n",
       "769   331.0                 0.0      0.0  192.0               0.0   \n",
       "792   349.0                 0.0      0.0  192.0               0.0   \n",
       "814   310.0                 0.0      0.0  192.0               0.0   \n",
       "\n",
       "     Coarse Aggregate  Fine Aggregate  Age  Strength  \n",
       "3               932.0           594.0  365     41.05  \n",
       "4               978.4           825.5  360     44.30  \n",
       "6               932.0           594.0  365     43.70  \n",
       "17              932.0           670.0  365     56.14  \n",
       "24              932.0           670.0  365     52.52  \n",
       "30              932.0           670.0  365     55.26  \n",
       "31              932.0           670.0  365     52.91  \n",
       "34              932.0           670.0  365     53.69  \n",
       "41              932.0           594.0  365     43.70  \n",
       "42              932.0           594.0  365     39.00  \n",
       "56              932.0           594.0  365     41.93  \n",
       "66             1047.0           806.9  360     44.70  \n",
       "604             968.0           781.0  365     38.89  \n",
       "610             968.0           885.0  365     25.08  \n",
       "616             968.0           856.0  360     33.70  \n",
       "620             968.0           863.0  365     29.79  \n",
       "622             968.0           812.0  365     36.15  \n",
       "769             978.0           825.0  360     41.24  \n",
       "792            1047.0           806.0  360     42.13  \n",
       "814             970.0           850.0  360     38.11  "
      ]
     },
     "execution_count": 7,
     "metadata": {},
     "output_type": "execute_result"
    }
   ],
   "source": [
    "df0[df0['Age']>max_threshold]"
   ]
  },
  {
   "cell_type": "code",
   "execution_count": 8,
   "id": "42b64413",
   "metadata": {},
   "outputs": [],
   "source": [
    "df2=df0[(df0.Age<max_threshold) & (df0.Age>min_threshold)]"
   ]
  },
  {
   "cell_type": "code",
   "execution_count": 9,
   "id": "67a12220",
   "metadata": {},
   "outputs": [
    {
     "data": {
      "text/plain": [
       "(995, 9)"
      ]
     },
     "execution_count": 9,
     "metadata": {},
     "output_type": "execute_result"
    }
   ],
   "source": [
    "df2.shape"
   ]
  },
  {
   "cell_type": "code",
   "execution_count": 10,
   "id": "9bccc837",
   "metadata": {},
   "outputs": [
    {
     "name": "stdout",
     "output_type": "stream",
     "text": [
      "Cement\n",
      "0.5248754608646494\n"
     ]
    },
    {
     "name": "stderr",
     "output_type": "stream",
     "text": [
      "C:\\Users\\ACER\\anaconda3\\lib\\site-packages\\seaborn\\distributions.py:2557: FutureWarning: `distplot` is a deprecated function and will be removed in a future version. Please adapt your code to use either `displot` (a figure-level function with similar flexibility) or `histplot` (an axes-level function for histograms).\n",
      "  warnings.warn(msg, FutureWarning)\n"
     ]
    },
    {
     "data": {
      "image/png": "[encoded data removed]",
      "text/plain": [
       "<Figure size 432x288 with 1 Axes>"
      ]
     },
     "metadata": {
      "needs_background": "light"
     },
     "output_type": "display_data"
    },
    {
     "name": "stdout",
     "output_type": "stream",
     "text": [
      "Blast Furnace Slag\n",
      "0.7940821421600669\n"
     ]
    },
    {
     "name": "stderr",
     "output_type": "stream",
     "text": [
      "C:\\Users\\ACER\\anaconda3\\lib\\site-packages\\seaborn\\distributions.py:2557: FutureWarning: `distplot` is a deprecated function and will be removed in a future version. Please adapt your code to use either `displot` (a figure-level function with similar flexibility) or `histplot` (an axes-level function for histograms).\n",
      "  warnings.warn(msg, FutureWarning)\n"
     ]
    },
    {
     "data": {
      "image/png": "[encoded data removed]",
      "text/plain": [
       "<Figure size 432x288 with 1 Axes>"
      ]
     },
     "metadata": {
      "needs_background": "light"
     },
     "output_type": "display_data"
    },
    {
     "name": "stdout",
     "output_type": "stream",
     "text": [
      "Fly Ash\n",
      "0.48007147442908893\n"
     ]
    },
    {
     "name": "stderr",
     "output_type": "stream",
     "text": [
      "C:\\Users\\ACER\\anaconda3\\lib\\site-packages\\seaborn\\distributions.py:2557: FutureWarning: `distplot` is a deprecated function and will be removed in a future version. Please adapt your code to use either `displot` (a figure-level function with similar flexibility) or `histplot` (an axes-level function for histograms).\n",
      "  warnings.warn(msg, FutureWarning)\n"
     ]
    },
    {
     "data": {
      "image/png": "[encoded data removed]",
      "text/plain": [
       "<Figure size 432x288 with 1 Axes>"
      ]
     },
     "metadata": {
      "needs_background": "light"
     },
     "output_type": "display_data"
    },
    {
     "name": "stdout",
     "output_type": "stream",
     "text": [
      "Water\n",
      "0.011293086713519425\n"
     ]
    },
    {
     "name": "stderr",
     "output_type": "stream",
     "text": [
      "C:\\Users\\ACER\\anaconda3\\lib\\site-packages\\seaborn\\distributions.py:2557: FutureWarning: `distplot` is a deprecated function and will be removed in a future version. Please adapt your code to use either `displot` (a figure-level function with similar flexibility) or `histplot` (an axes-level function for histograms).\n",
      "  warnings.warn(msg, FutureWarning)\n"
     ]
    },
    {
     "data": {
      "image/png": "[encoded data removed]",
      "text/plain": [
       "<Figure size 432x288 with 1 Axes>"
      ]
     },
     "metadata": {
      "needs_background": "light"
     },
     "output_type": "display_data"
    },
    {
     "name": "stdout",
     "output_type": "stream",
     "text": [
      "Superplasticizer\n",
      "0.8733866599004637\n"
     ]
    },
    {
     "name": "stderr",
     "output_type": "stream",
     "text": [
      "C:\\Users\\ACER\\anaconda3\\lib\\site-packages\\seaborn\\distributions.py:2557: FutureWarning: `distplot` is a deprecated function and will be removed in a future version. Please adapt your code to use either `displot` (a figure-level function with similar flexibility) or `histplot` (an axes-level function for histograms).\n",
      "  warnings.warn(msg, FutureWarning)\n"
     ]
    },
    {
     "data": {
      "image/png": "[encoded data removed]",
      "text/plain": [
       "<Figure size 432x288 with 1 Axes>"
      ]
     },
     "metadata": {
      "needs_background": "light"
     },
     "output_type": "display_data"
    },
    {
     "name": "stdout",
     "output_type": "stream",
     "text": [
      "Coarse Aggregate\n",
      "-0.07252600245816467\n"
     ]
    },
    {
     "name": "stderr",
     "output_type": "stream",
     "text": [
      "C:\\Users\\ACER\\anaconda3\\lib\\site-packages\\seaborn\\distributions.py:2557: FutureWarning: `distplot` is a deprecated function and will be removed in a future version. Please adapt your code to use either `displot` (a figure-level function with similar flexibility) or `histplot` (an axes-level function for histograms).\n",
      "  warnings.warn(msg, FutureWarning)\n"
     ]
    },
    {
     "data": {
      "image/png": "[encoded data removed]",
      "text/plain": [
       "<Figure size 432x288 with 1 Axes>"
      ]
     },
     "metadata": {
      "needs_background": "light"
     },
     "output_type": "display_data"
    },
    {
     "name": "stdout",
     "output_type": "stream",
     "text": [
      "Fine Aggregate\n",
      "-0.22314520485049544\n"
     ]
    },
    {
     "name": "stderr",
     "output_type": "stream",
     "text": [
      "C:\\Users\\ACER\\anaconda3\\lib\\site-packages\\seaborn\\distributions.py:2557: FutureWarning: `distplot` is a deprecated function and will be removed in a future version. Please adapt your code to use either `displot` (a figure-level function with similar flexibility) or `histplot` (an axes-level function for histograms).\n",
      "  warnings.warn(msg, FutureWarning)\n"
     ]
    },
    {
     "data": {
      "image/png": "[encoded data removed]",
      "text/plain": [
       "<Figure size 432x288 with 1 Axes>"
      ]
     },
     "metadata": {
      "needs_background": "light"
     },
     "output_type": "display_data"
    },
    {
     "name": "stdout",
     "output_type": "stream",
     "text": [
      "Age\n",
      "1.9349151229097996\n"
     ]
    },
    {
     "name": "stderr",
     "output_type": "stream",
     "text": [
      "C:\\Users\\ACER\\anaconda3\\lib\\site-packages\\seaborn\\distributions.py:2557: FutureWarning: `distplot` is a deprecated function and will be removed in a future version. Please adapt your code to use either `displot` (a figure-level function with similar flexibility) or `histplot` (an axes-level function for histograms).\n",
      "  warnings.warn(msg, FutureWarning)\n"
     ]
    },
    {
     "data": {
      "image/png": "[encoded data removed]",
      "text/plain": [
       "<Figure size 432x288 with 1 Axes>"
      ]
     },
     "metadata": {
      "needs_background": "light"
     },
     "output_type": "display_data"
    },
    {
     "name": "stdout",
     "output_type": "stream",
     "text": [
      "Strength\n",
      "0.4541403190937602\n"
     ]
    },
    {
     "name": "stderr",
     "output_type": "stream",
     "text": [
      "C:\\Users\\ACER\\anaconda3\\lib\\site-packages\\seaborn\\distributions.py:2557: FutureWarning: `distplot` is a deprecated function and will be removed in a future version. Please adapt your code to use either `displot` (a figure-level function with similar flexibility) or `histplot` (an axes-level function for histograms).\n",
      "  warnings.warn(msg, FutureWarning)\n"
     ]
    },
    {
     "data": {
      "image/png": "[encoded data removed]",
      "text/plain": [
       "<Figure size 432x288 with 1 Axes>"
      ]
     },
     "metadata": {
      "needs_background": "light"
     },
     "output_type": "display_data"
    }
   ],
   "source": [
    "from scipy.stats import skew\n",
    "import seaborn as sns\n",
    "for col in df2:\n",
    "    print(col)\n",
    "    print(skew(df2[col]))\n",
    "    plt.figure()\n",
    "    sns.distplot(df2[col])\n",
    "    plt.show()"
   ]
  },
  {
   "cell_type": "code",
   "execution_count": 11,
   "id": "14bcc6ab",
   "metadata": {},
   "outputs": [
    {
     "name": "stderr",
     "output_type": "stream",
     "text": [
      "<ipython-input-11-f1b5a22c65ed>:1: SettingWithCopyWarning: \n",
      "A value is trying to be set on a copy of a slice from a DataFrame.\n",
      "Try using .loc[row_indexer,col_indexer] = value instead\n",
      "\n",
      "See the caveats in the documentation: https://pandas.pydata.org/pandas-docs/stable/user_guide/indexing.html#returning-a-view-versus-a-copy\n",
      "  df2[\"Superplasticizer\"]=np.sqrt(df2[\"Superplasticizer\"])\n"
     ]
    },
    {
     "data": {
      "text/plain": [
       "-0.2350908194768295"
      ]
     },
     "execution_count": 11,
     "metadata": {},
     "output_type": "execute_result"
    }
   ],
   "source": [
    "df2[\"Superplasticizer\"]=np.sqrt(df2[\"Superplasticizer\"])\n",
    "skew(df2[\"Superplasticizer\"])"
   ]
  },
  {
   "cell_type": "code",
   "execution_count": 12,
   "id": "ccf505b4",
   "metadata": {},
   "outputs": [
    {
     "data": {
      "text/plain": [
       "0       1.581139\n",
       "1       1.581139\n",
       "5       0.000000\n",
       "7       0.000000\n",
       "8       0.000000\n",
       "          ...   \n",
       "1025    2.983287\n",
       "1026    3.224903\n",
       "1027    2.469818\n",
       "1028    3.361547\n",
       "1029    2.932576\n",
       "Name: Superplasticizer, Length: 995, dtype: float64"
      ]
     },
     "execution_count": 12,
     "metadata": {},
     "output_type": "execute_result"
    }
   ],
   "source": [
    "df2[\"Superplasticizer\"]"
   ]
  },
  {
   "cell_type": "code",
   "execution_count": 13,
   "id": "d4129b53",
   "metadata": {},
   "outputs": [
    {
     "data": {
      "text/plain": [
       "False"
      ]
     },
     "execution_count": 13,
     "metadata": {},
     "output_type": "execute_result"
    }
   ],
   "source": [
    "df2.isnull().values.any()"
   ]
  },
  {
   "cell_type": "code",
   "execution_count": 14,
   "id": "53188f0d",
   "metadata": {},
   "outputs": [
    {
     "data": {
      "text/plain": [
       "Cement                0\n",
       "Blast Furnace Slag    0\n",
       "Fly Ash               0\n",
       "Water                 0\n",
       "Superplasticizer      0\n",
       "Coarse Aggregate      0\n",
       "Fine Aggregate        0\n",
       "Age                   0\n",
       "Strength              0\n",
       "dtype: int64"
      ]
     },
     "execution_count": 14,
     "metadata": {},
     "output_type": "execute_result"
    }
   ],
   "source": [
    "df2.isna().sum()"
   ]
  },
  {
   "cell_type": "code",
   "execution_count": 15,
   "id": "d6b62baa",
   "metadata": {},
   "outputs": [
    {
     "data": {
      "text/plain": [
       "Superplasticizer\n",
       "0.000000    344\n",
       "1.303840      4\n",
       "1.378405      1\n",
       "1.414214      1\n",
       "1.483240      1\n",
       "           ... \n",
       "4.690416      6\n",
       "4.701064      1\n",
       "4.837355      5\n",
       "5.310367      5\n",
       "5.674504      5\n",
       "Name: Superplasticizer, Length: 111, dtype: int64"
      ]
     },
     "execution_count": 15,
     "metadata": {},
     "output_type": "execute_result"
    }
   ],
   "source": [
    "df2.groupby('Superplasticizer')['Superplasticizer'].agg('count')"
   ]
  },
  {
   "cell_type": "code",
   "execution_count": 16,
   "id": "a86b9a44",
   "metadata": {},
   "outputs": [
    {
     "name": "stderr",
     "output_type": "stream",
     "text": [
      "C:\\Users\\ACER\\anaconda3\\lib\\site-packages\\pandas\\core\\series.py:4463: SettingWithCopyWarning: \n",
      "A value is trying to be set on a copy of a slice from a DataFrame\n",
      "\n",
      "See the caveats in the documentation: https://pandas.pydata.org/pandas-docs/stable/user_guide/indexing.html#returning-a-view-versus-a-copy\n",
      "  return super().fillna(\n"
     ]
    }
   ],
   "source": [
    "df2['Superplasticizer'].fillna(df2['Superplasticizer'].mean(), inplace=True)"
   ]
  },
  {
   "cell_type": "code",
   "execution_count": 17,
   "id": "4ac8d5f6",
   "metadata": {},
   "outputs": [
    {
     "data": {
      "text/plain": [
       "Cement                0\n",
       "Blast Furnace Slag    0\n",
       "Fly Ash               0\n",
       "Water                 0\n",
       "Superplasticizer      0\n",
       "Coarse Aggregate      0\n",
       "Fine Aggregate        0\n",
       "Age                   0\n",
       "Strength              0\n",
       "dtype: int64"
      ]
     },
     "execution_count": 17,
     "metadata": {},
     "output_type": "execute_result"
    }
   ],
   "source": [
    "df2.isna().sum()"
   ]
  },
  {
   "cell_type": "code",
   "execution_count": 18,
   "id": "2cecf09e",
   "metadata": {},
   "outputs": [
    {
     "data": {
      "text/html": [
       "<div>\n",
       "<style scoped>\n",
       "    .dataframe tbody tr th:only-of-type {\n",
       "        vertical-align: middle;\n",
       "    }\n",
       "\n",
       "    .dataframe tbody tr th {\n",
       "        vertical-align: top;\n",
       "    }\n",
       "\n",
       "    .dataframe thead th {\n",
       "        text-align: right;\n",
       "    }\n",
       "</style>\n",
       "<table border=\"1\" class=\"dataframe\">\n",
       "  <thead>\n",
       "    <tr style=\"text-align: right;\">\n",
       "      <th></th>\n",
       "      <th>Cement</th>\n",
       "      <th>Blast Furnace Slag</th>\n",
       "      <th>Fly Ash</th>\n",
       "      <th>Water</th>\n",
       "      <th>Superplasticizer</th>\n",
       "      <th>Coarse Aggregate</th>\n",
       "      <th>Fine Aggregate</th>\n",
       "      <th>Age</th>\n",
       "      <th>Strength</th>\n",
       "    </tr>\n",
       "  </thead>\n",
       "  <tbody>\n",
       "    <tr>\n",
       "      <th>count</th>\n",
       "      <td>995.000000</td>\n",
       "      <td>995.000000</td>\n",
       "      <td>995.000000</td>\n",
       "      <td>995.000000</td>\n",
       "      <td>995.000000</td>\n",
       "      <td>995.000000</td>\n",
       "      <td>995.000000</td>\n",
       "      <td>995.000000</td>\n",
       "      <td>995.000000</td>\n",
       "    </tr>\n",
       "    <tr>\n",
       "      <th>mean</th>\n",
       "      <td>279.138392</td>\n",
       "      <td>74.261206</td>\n",
       "      <td>56.094472</td>\n",
       "      <td>180.476683</td>\n",
       "      <td>2.000643</td>\n",
       "      <td>973.005126</td>\n",
       "      <td>776.505025</td>\n",
       "      <td>36.432161</td>\n",
       "      <td>35.530714</td>\n",
       "    </tr>\n",
       "    <tr>\n",
       "      <th>std</th>\n",
       "      <td>104.081552</td>\n",
       "      <td>86.557598</td>\n",
       "      <td>64.286841</td>\n",
       "      <td>20.621449</td>\n",
       "      <td>1.556527</td>\n",
       "      <td>78.233667</td>\n",
       "      <td>77.893436</td>\n",
       "      <td>36.752259</td>\n",
       "      <td>16.752025</td>\n",
       "    </tr>\n",
       "    <tr>\n",
       "      <th>min</th>\n",
       "      <td>102.000000</td>\n",
       "      <td>0.000000</td>\n",
       "      <td>0.000000</td>\n",
       "      <td>121.800000</td>\n",
       "      <td>0.000000</td>\n",
       "      <td>801.000000</td>\n",
       "      <td>594.000000</td>\n",
       "      <td>3.000000</td>\n",
       "      <td>2.330000</td>\n",
       "    </tr>\n",
       "    <tr>\n",
       "      <th>25%</th>\n",
       "      <td>190.700000</td>\n",
       "      <td>0.000000</td>\n",
       "      <td>0.000000</td>\n",
       "      <td>164.900000</td>\n",
       "      <td>0.000000</td>\n",
       "      <td>932.000000</td>\n",
       "      <td>738.000000</td>\n",
       "      <td>7.000000</td>\n",
       "      <td>23.515000</td>\n",
       "    </tr>\n",
       "    <tr>\n",
       "      <th>50%</th>\n",
       "      <td>266.000000</td>\n",
       "      <td>22.000000</td>\n",
       "      <td>0.000000</td>\n",
       "      <td>184.000000</td>\n",
       "      <td>2.588436</td>\n",
       "      <td>968.000000</td>\n",
       "      <td>780.100000</td>\n",
       "      <td>28.000000</td>\n",
       "      <td>33.730000</td>\n",
       "    </tr>\n",
       "    <tr>\n",
       "      <th>75%</th>\n",
       "      <td>350.000000</td>\n",
       "      <td>144.450000</td>\n",
       "      <td>118.300000</td>\n",
       "      <td>192.000000</td>\n",
       "      <td>3.224903</td>\n",
       "      <td>1029.700000</td>\n",
       "      <td>825.000000</td>\n",
       "      <td>28.000000</td>\n",
       "      <td>45.775000</td>\n",
       "    </tr>\n",
       "    <tr>\n",
       "      <th>max</th>\n",
       "      <td>540.000000</td>\n",
       "      <td>359.400000</td>\n",
       "      <td>200.100000</td>\n",
       "      <td>247.000000</td>\n",
       "      <td>5.674504</td>\n",
       "      <td>1145.000000</td>\n",
       "      <td>992.600000</td>\n",
       "      <td>180.000000</td>\n",
       "      <td>82.600000</td>\n",
       "    </tr>\n",
       "  </tbody>\n",
       "</table>\n",
       "</div>"
      ],
      "text/plain": [
       "           Cement  Blast Furnace Slag     Fly Ash       Water  \\\n",
       "count  995.000000          995.000000  995.000000  995.000000   \n",
       "mean   279.138392           74.261206   56.094472  180.476683   \n",
       "std    104.081552           86.557598   64.286841   20.621449   \n",
       "min    102.000000            0.000000    0.000000  121.800000   \n",
       "25%    190.700000            0.000000    0.000000  164.900000   \n",
       "50%    266.000000           22.000000    0.000000  184.000000   \n",
       "75%    350.000000          144.450000  118.300000  192.000000   \n",
       "max    540.000000          359.400000  200.100000  247.000000   \n",
       "\n",
       "       Superplasticizer  Coarse Aggregate  Fine Aggregate         Age  \\\n",
       "count        995.000000        995.000000      995.000000  995.000000   \n",
       "mean           2.000643        973.005126      776.505025   36.432161   \n",
       "std            1.556527         78.233667       77.893436   36.752259   \n",
       "min            0.000000        801.000000      594.000000    3.000000   \n",
       "25%            0.000000        932.000000      738.000000    7.000000   \n",
       "50%            2.588436        968.000000      780.100000   28.000000   \n",
       "75%            3.224903       1029.700000      825.000000   28.000000   \n",
       "max            5.674504       1145.000000      992.600000  180.000000   \n",
       "\n",
       "         Strength  \n",
       "count  995.000000  \n",
       "mean    35.530714  \n",
       "std     16.752025  \n",
       "min      2.330000  \n",
       "25%     23.515000  \n",
       "50%     33.730000  \n",
       "75%     45.775000  \n",
       "max     82.600000  "
      ]
     },
     "execution_count": 18,
     "metadata": {},
     "output_type": "execute_result"
    }
   ],
   "source": [
    "df2.describe()"
   ]
  },
  {
   "cell_type": "code",
   "execution_count": 19,
   "id": "42d43dcc",
   "metadata": {},
   "outputs": [
    {
     "data": {
      "text/plain": [
       "0"
      ]
     },
     "execution_count": 19,
     "metadata": {},
     "output_type": "execute_result"
    }
   ],
   "source": [
    "np.isinf(df2).values.sum()"
   ]
  },
  {
   "cell_type": "code",
   "execution_count": 20,
   "id": "55628f27",
   "metadata": {},
   "outputs": [
    {
     "data": {
      "image/png": "[encoded data removed]",
      "text/plain": [
       "<Figure size 432x288 with 2 Axes>"
      ]
     },
     "metadata": {
      "needs_background": "light"
     },
     "output_type": "display_data"
    }
   ],
   "source": [
    "import seaborn as sns\n",
    "sns.heatmap(df2.corr(), annot=True)\n",
    "plt.show()"
   ]
  },
  {
   "cell_type": "markdown",
   "id": "66db404c",
   "metadata": {},
   "source": [
    "### From the correlation matrix we can see that the Flyash has a correlation of only 0.094, so we can drop it"
   ]
  },
  {
   "cell_type": "code",
   "execution_count": 21,
   "id": "e7cae458",
   "metadata": {},
   "outputs": [
    {
     "name": "stderr",
     "output_type": "stream",
     "text": [
      "C:\\Users\\ACER\\anaconda3\\lib\\site-packages\\pandas\\core\\frame.py:4308: SettingWithCopyWarning: \n",
      "A value is trying to be set on a copy of a slice from a DataFrame\n",
      "\n",
      "See the caveats in the documentation: https://pandas.pydata.org/pandas-docs/stable/user_guide/indexing.html#returning-a-view-versus-a-copy\n",
      "  return super().drop(\n"
     ]
    }
   ],
   "source": [
    "df2.drop('Fly Ash', inplace=True, axis=1)"
   ]
  },
  {
   "cell_type": "code",
   "execution_count": 22,
   "id": "54ea92f5",
   "metadata": {},
   "outputs": [
    {
     "data": {
      "text/html": [
       "<div>\n",
       "<style scoped>\n",
       "    .dataframe tbody tr th:only-of-type {\n",
       "        vertical-align: middle;\n",
       "    }\n",
       "\n",
       "    .dataframe tbody tr th {\n",
       "        vertical-align: top;\n",
       "    }\n",
       "\n",
       "    .dataframe thead th {\n",
       "        text-align: right;\n",
       "    }\n",
       "</style>\n",
       "<table border=\"1\" class=\"dataframe\">\n",
       "  <thead>\n",
       "    <tr style=\"text-align: right;\">\n",
       "      <th></th>\n",
       "      <th>Cement</th>\n",
       "      <th>Blast Furnace Slag</th>\n",
       "      <th>Water</th>\n",
       "      <th>Superplasticizer</th>\n",
       "      <th>Coarse Aggregate</th>\n",
       "      <th>Fine Aggregate</th>\n",
       "      <th>Age</th>\n",
       "      <th>Strength</th>\n",
       "    </tr>\n",
       "  </thead>\n",
       "  <tbody>\n",
       "    <tr>\n",
       "      <th>0</th>\n",
       "      <td>540.0</td>\n",
       "      <td>0.0</td>\n",
       "      <td>162.0</td>\n",
       "      <td>1.581139</td>\n",
       "      <td>1040.0</td>\n",
       "      <td>676.0</td>\n",
       "      <td>28</td>\n",
       "      <td>79.99</td>\n",
       "    </tr>\n",
       "    <tr>\n",
       "      <th>1</th>\n",
       "      <td>540.0</td>\n",
       "      <td>0.0</td>\n",
       "      <td>162.0</td>\n",
       "      <td>1.581139</td>\n",
       "      <td>1055.0</td>\n",
       "      <td>676.0</td>\n",
       "      <td>28</td>\n",
       "      <td>61.89</td>\n",
       "    </tr>\n",
       "    <tr>\n",
       "      <th>5</th>\n",
       "      <td>266.0</td>\n",
       "      <td>114.0</td>\n",
       "      <td>228.0</td>\n",
       "      <td>0.000000</td>\n",
       "      <td>932.0</td>\n",
       "      <td>670.0</td>\n",
       "      <td>90</td>\n",
       "      <td>47.03</td>\n",
       "    </tr>\n",
       "    <tr>\n",
       "      <th>7</th>\n",
       "      <td>380.0</td>\n",
       "      <td>95.0</td>\n",
       "      <td>228.0</td>\n",
       "      <td>0.000000</td>\n",
       "      <td>932.0</td>\n",
       "      <td>594.0</td>\n",
       "      <td>28</td>\n",
       "      <td>36.45</td>\n",
       "    </tr>\n",
       "    <tr>\n",
       "      <th>8</th>\n",
       "      <td>266.0</td>\n",
       "      <td>114.0</td>\n",
       "      <td>228.0</td>\n",
       "      <td>0.000000</td>\n",
       "      <td>932.0</td>\n",
       "      <td>670.0</td>\n",
       "      <td>28</td>\n",
       "      <td>45.85</td>\n",
       "    </tr>\n",
       "  </tbody>\n",
       "</table>\n",
       "</div>"
      ],
      "text/plain": [
       "   Cement  Blast Furnace Slag  Water  Superplasticizer  Coarse Aggregate  \\\n",
       "0   540.0                 0.0  162.0          1.581139            1040.0   \n",
       "1   540.0                 0.0  162.0          1.581139            1055.0   \n",
       "5   266.0               114.0  228.0          0.000000             932.0   \n",
       "7   380.0                95.0  228.0          0.000000             932.0   \n",
       "8   266.0               114.0  228.0          0.000000             932.0   \n",
       "\n",
       "   Fine Aggregate  Age  Strength  \n",
       "0           676.0   28     79.99  \n",
       "1           676.0   28     61.89  \n",
       "5           670.0   90     47.03  \n",
       "7           594.0   28     36.45  \n",
       "8           670.0   28     45.85  "
      ]
     },
     "execution_count": 22,
     "metadata": {},
     "output_type": "execute_result"
    }
   ],
   "source": [
    "df2.head()"
   ]
  },
  {
   "cell_type": "code",
   "execution_count": 23,
   "id": "9ebbe389",
   "metadata": {},
   "outputs": [],
   "source": [
    "X=df2[['Cement','Blast Furnace Slag','Water','Superplasticizer','Coarse Aggregate','Fine Aggregate','Age']]\n",
    "y=df2[['Strength']]"
   ]
  },
  {
   "cell_type": "code",
   "execution_count": 24,
   "id": "ec373f6c",
   "metadata": {},
   "outputs": [],
   "source": [
    "from sklearn.preprocessing import MinMaxScaler"
   ]
  },
  {
   "cell_type": "code",
   "execution_count": 25,
   "id": "20463378",
   "metadata": {},
   "outputs": [
    {
     "data": {
      "text/html": [
       "<div>\n",
       "<style scoped>\n",
       "    .dataframe tbody tr th:only-of-type {\n",
       "        vertical-align: middle;\n",
       "    }\n",
       "\n",
       "    .dataframe tbody tr th {\n",
       "        vertical-align: top;\n",
       "    }\n",
       "\n",
       "    .dataframe thead th {\n",
       "        text-align: right;\n",
       "    }\n",
       "</style>\n",
       "<table border=\"1\" class=\"dataframe\">\n",
       "  <thead>\n",
       "    <tr style=\"text-align: right;\">\n",
       "      <th></th>\n",
       "      <th>Cement</th>\n",
       "      <th>Blast Furnace Slag</th>\n",
       "      <th>Water</th>\n",
       "      <th>Superplasticizer</th>\n",
       "      <th>Coarse Aggregate</th>\n",
       "      <th>Fine Aggregate</th>\n",
       "      <th>Age</th>\n",
       "    </tr>\n",
       "  </thead>\n",
       "  <tbody>\n",
       "    <tr>\n",
       "      <th>0</th>\n",
       "      <td>540.0</td>\n",
       "      <td>0.0</td>\n",
       "      <td>162.0</td>\n",
       "      <td>1.581139</td>\n",
       "      <td>1040.0</td>\n",
       "      <td>676.0</td>\n",
       "      <td>28</td>\n",
       "    </tr>\n",
       "    <tr>\n",
       "      <th>1</th>\n",
       "      <td>540.0</td>\n",
       "      <td>0.0</td>\n",
       "      <td>162.0</td>\n",
       "      <td>1.581139</td>\n",
       "      <td>1055.0</td>\n",
       "      <td>676.0</td>\n",
       "      <td>28</td>\n",
       "    </tr>\n",
       "    <tr>\n",
       "      <th>5</th>\n",
       "      <td>266.0</td>\n",
       "      <td>114.0</td>\n",
       "      <td>228.0</td>\n",
       "      <td>0.000000</td>\n",
       "      <td>932.0</td>\n",
       "      <td>670.0</td>\n",
       "      <td>90</td>\n",
       "    </tr>\n",
       "    <tr>\n",
       "      <th>7</th>\n",
       "      <td>380.0</td>\n",
       "      <td>95.0</td>\n",
       "      <td>228.0</td>\n",
       "      <td>0.000000</td>\n",
       "      <td>932.0</td>\n",
       "      <td>594.0</td>\n",
       "      <td>28</td>\n",
       "    </tr>\n",
       "    <tr>\n",
       "      <th>8</th>\n",
       "      <td>266.0</td>\n",
       "      <td>114.0</td>\n",
       "      <td>228.0</td>\n",
       "      <td>0.000000</td>\n",
       "      <td>932.0</td>\n",
       "      <td>670.0</td>\n",
       "      <td>28</td>\n",
       "    </tr>\n",
       "  </tbody>\n",
       "</table>\n",
       "</div>"
      ],
      "text/plain": [
       "   Cement  Blast Furnace Slag  Water  Superplasticizer  Coarse Aggregate  \\\n",
       "0   540.0                 0.0  162.0          1.581139            1040.0   \n",
       "1   540.0                 0.0  162.0          1.581139            1055.0   \n",
       "5   266.0               114.0  228.0          0.000000             932.0   \n",
       "7   380.0                95.0  228.0          0.000000             932.0   \n",
       "8   266.0               114.0  228.0          0.000000             932.0   \n",
       "\n",
       "   Fine Aggregate  Age  \n",
       "0           676.0   28  \n",
       "1           676.0   28  \n",
       "5           670.0   90  \n",
       "7           594.0   28  \n",
       "8           670.0   28  "
      ]
     },
     "execution_count": 25,
     "metadata": {},
     "output_type": "execute_result"
    }
   ],
   "source": [
    "X.head()"
   ]
  },
  {
   "cell_type": "code",
   "execution_count": 26,
   "id": "3dbe149e",
   "metadata": {},
   "outputs": [
    {
     "data": {
      "text/html": [
       "<div>\n",
       "<style scoped>\n",
       "    .dataframe tbody tr th:only-of-type {\n",
       "        vertical-align: middle;\n",
       "    }\n",
       "\n",
       "    .dataframe tbody tr th {\n",
       "        vertical-align: top;\n",
       "    }\n",
       "\n",
       "    .dataframe thead th {\n",
       "        text-align: right;\n",
       "    }\n",
       "</style>\n",
       "<table border=\"1\" class=\"dataframe\">\n",
       "  <thead>\n",
       "    <tr style=\"text-align: right;\">\n",
       "      <th></th>\n",
       "      <th>Strength</th>\n",
       "    </tr>\n",
       "  </thead>\n",
       "  <tbody>\n",
       "    <tr>\n",
       "      <th>0</th>\n",
       "      <td>79.99</td>\n",
       "    </tr>\n",
       "    <tr>\n",
       "      <th>1</th>\n",
       "      <td>61.89</td>\n",
       "    </tr>\n",
       "    <tr>\n",
       "      <th>5</th>\n",
       "      <td>47.03</td>\n",
       "    </tr>\n",
       "    <tr>\n",
       "      <th>7</th>\n",
       "      <td>36.45</td>\n",
       "    </tr>\n",
       "    <tr>\n",
       "      <th>8</th>\n",
       "      <td>45.85</td>\n",
       "    </tr>\n",
       "  </tbody>\n",
       "</table>\n",
       "</div>"
      ],
      "text/plain": [
       "   Strength\n",
       "0     79.99\n",
       "1     61.89\n",
       "5     47.03\n",
       "7     36.45\n",
       "8     45.85"
      ]
     },
     "execution_count": 26,
     "metadata": {},
     "output_type": "execute_result"
    }
   ],
   "source": [
    "y.head()"
   ]
  },
  {
   "cell_type": "code",
   "execution_count": 27,
   "id": "e8059f17",
   "metadata": {},
   "outputs": [
    {
     "name": "stdout",
     "output_type": "stream",
     "text": [
      "Cement\n",
      "0.5248754608646494\n"
     ]
    },
    {
     "name": "stderr",
     "output_type": "stream",
     "text": [
      "C:\\Users\\ACER\\anaconda3\\lib\\site-packages\\seaborn\\distributions.py:2557: FutureWarning: `distplot` is a deprecated function and will be removed in a future version. Please adapt your code to use either `displot` (a figure-level function with similar flexibility) or `histplot` (an axes-level function for histograms).\n",
      "  warnings.warn(msg, FutureWarning)\n"
     ]
    },
    {
     "data": {
      "image/png": "[encoded data removed]",
      "text/plain": [
       "<Figure size 432x288 with 1 Axes>"
      ]
     },
     "metadata": {
      "needs_background": "light"
     },
     "output_type": "display_data"
    },
    {
     "name": "stdout",
     "output_type": "stream",
     "text": [
      "Blast Furnace Slag\n",
      "0.7940821421600669\n"
     ]
    },
    {
     "name": "stderr",
     "output_type": "stream",
     "text": [
      "C:\\Users\\ACER\\anaconda3\\lib\\site-packages\\seaborn\\distributions.py:2557: FutureWarning: `distplot` is a deprecated function and will be removed in a future version. Please adapt your code to use either `displot` (a figure-level function with similar flexibility) or `histplot` (an axes-level function for histograms).\n",
      "  warnings.warn(msg, FutureWarning)\n"
     ]
    },
    {
     "data": {
      "image/png": "[encoded data removed]",
      "text/plain": [
       "<Figure size 432x288 with 1 Axes>"
      ]
     },
     "metadata": {
      "needs_background": "light"
     },
     "output_type": "display_data"
    },
    {
     "name": "stdout",
     "output_type": "stream",
     "text": [
      "Water\n",
      "0.011293086713519425\n"
     ]
    },
    {
     "name": "stderr",
     "output_type": "stream",
     "text": [
      "C:\\Users\\ACER\\anaconda3\\lib\\site-packages\\seaborn\\distributions.py:2557: FutureWarning: `distplot` is a deprecated function and will be removed in a future version. Please adapt your code to use either `displot` (a figure-level function with similar flexibility) or `histplot` (an axes-level function for histograms).\n",
      "  warnings.warn(msg, FutureWarning)\n"
     ]
    },
    {
     "data": {
      "image/png": "[encoded data removed]",
      "text/plain": [
       "<Figure size 432x288 with 1 Axes>"
      ]
     },
     "metadata": {
      "needs_background": "light"
     },
     "output_type": "display_data"
    },
    {
     "name": "stderr",
     "output_type": "stream",
     "text": [
      "C:\\Users\\ACER\\anaconda3\\lib\\site-packages\\seaborn\\distributions.py:2557: FutureWarning: `distplot` is a deprecated function and will be removed in a future version. Please adapt your code to use either `displot` (a figure-level function with similar flexibility) or `histplot` (an axes-level function for histograms).\n",
      "  warnings.warn(msg, FutureWarning)\n"
     ]
    },
    {
     "name": "stdout",
     "output_type": "stream",
     "text": [
      "Superplasticizer\n",
      "-0.2350908194768295\n"
     ]
    },
    {
     "data": {
      "image/png": "[encoded data removed]",
      "text/plain": [
       "<Figure size 432x288 with 1 Axes>"
      ]
     },
     "metadata": {
      "needs_background": "light"
     },
     "output_type": "display_data"
    },
    {
     "name": "stderr",
     "output_type": "stream",
     "text": [
      "C:\\Users\\ACER\\anaconda3\\lib\\site-packages\\seaborn\\distributions.py:2557: FutureWarning: `distplot` is a deprecated function and will be removed in a future version. Please adapt your code to use either `displot` (a figure-level function with similar flexibility) or `histplot` (an axes-level function for histograms).\n",
      "  warnings.warn(msg, FutureWarning)\n"
     ]
    },
    {
     "name": "stdout",
     "output_type": "stream",
     "text": [
      "Coarse Aggregate\n",
      "-0.07252600245816467\n"
     ]
    },
    {
     "data": {
      "image/png": "[encoded data removed]",
      "text/plain": [
       "<Figure size 432x288 with 1 Axes>"
      ]
     },
     "metadata": {
      "needs_background": "light"
     },
     "output_type": "display_data"
    },
    {
     "name": "stderr",
     "output_type": "stream",
     "text": [
      "C:\\Users\\ACER\\anaconda3\\lib\\site-packages\\seaborn\\distributions.py:2557: FutureWarning: `distplot` is a deprecated function and will be removed in a future version. Please adapt your code to use either `displot` (a figure-level function with similar flexibility) or `histplot` (an axes-level function for histograms).\n",
      "  warnings.warn(msg, FutureWarning)\n"
     ]
    },
    {
     "name": "stdout",
     "output_type": "stream",
     "text": [
      "Fine Aggregate\n",
      "-0.22314520485049544\n"
     ]
    },
    {
     "data": {
      "image/png": "[encoded data removed]",
      "text/plain": [
       "<Figure size 432x288 with 1 Axes>"
      ]
     },
     "metadata": {
      "needs_background": "light"
     },
     "output_type": "display_data"
    },
    {
     "name": "stdout",
     "output_type": "stream",
     "text": [
      "Age\n",
      "1.9349151229097996\n"
     ]
    },
    {
     "name": "stderr",
     "output_type": "stream",
     "text": [
      "C:\\Users\\ACER\\anaconda3\\lib\\site-packages\\seaborn\\distributions.py:2557: FutureWarning: `distplot` is a deprecated function and will be removed in a future version. Please adapt your code to use either `displot` (a figure-level function with similar flexibility) or `histplot` (an axes-level function for histograms).\n",
      "  warnings.warn(msg, FutureWarning)\n"
     ]
    },
    {
     "data": {
      "image/png": "[encoded data removed]",
      "text/plain": [
       "<Figure size 432x288 with 1 Axes>"
      ]
     },
     "metadata": {
      "needs_background": "light"
     },
     "output_type": "display_data"
    },
    {
     "name": "stderr",
     "output_type": "stream",
     "text": [
      "C:\\Users\\ACER\\anaconda3\\lib\\site-packages\\seaborn\\distributions.py:2557: FutureWarning: `distplot` is a deprecated function and will be removed in a future version. Please adapt your code to use either `displot` (a figure-level function with similar flexibility) or `histplot` (an axes-level function for histograms).\n",
      "  warnings.warn(msg, FutureWarning)\n"
     ]
    },
    {
     "name": "stdout",
     "output_type": "stream",
     "text": [
      "Strength\n",
      "0.4541403190937602\n"
     ]
    },
    {
     "data": {
      "image/png": "[encoded data removed]",
      "text/plain": [
       "<Figure size 432x288 with 1 Axes>"
      ]
     },
     "metadata": {
      "needs_background": "light"
     },
     "output_type": "display_data"
    }
   ],
   "source": [
    "from scipy.stats import skew\n",
    "import seaborn as sns\n",
    "for col in df2:\n",
    "    print(col)\n",
    "    print(skew(df2[col]))\n",
    "    plt.figure()\n",
    "    sns.distplot(df2[col])\n",
    "    plt.show()"
   ]
  },
  {
   "cell_type": "code",
   "execution_count": 28,
   "id": "f367ca34",
   "metadata": {},
   "outputs": [],
   "source": [
    "from sklearn.model_selection import train_test_split,StratifiedKFold"
   ]
  },
  {
   "cell_type": "code",
   "execution_count": 29,
   "id": "af5f04d6",
   "metadata": {},
   "outputs": [
    {
     "name": "stdout",
     "output_type": "stream",
     "text": [
      "<class 'pandas.core.frame.DataFrame'>\n",
      "Int64Index: 995 entries, 0 to 1029\n",
      "Data columns (total 8 columns):\n",
      " #   Column              Non-Null Count  Dtype  \n",
      "---  ------              --------------  -----  \n",
      " 0   Cement              995 non-null    float64\n",
      " 1   Blast Furnace Slag  995 non-null    float64\n",
      " 2   Water               995 non-null    float64\n",
      " 3   Superplasticizer    995 non-null    float64\n",
      " 4   Coarse Aggregate    995 non-null    float64\n",
      " 5   Fine Aggregate      995 non-null    float64\n",
      " 6   Age                 995 non-null    int64  \n",
      " 7   Strength            995 non-null    float64\n",
      "dtypes: float64(7), int64(1)\n",
      "memory usage: 70.0 KB\n"
     ]
    }
   ],
   "source": [
    "df2.info()"
   ]
  },
  {
   "cell_type": "code",
   "execution_count": 30,
   "id": "cd1f4a32",
   "metadata": {},
   "outputs": [
    {
     "data": {
      "text/plain": [
       "Cement                float64\n",
       "Blast Furnace Slag    float64\n",
       "Water                 float64\n",
       "Superplasticizer      float64\n",
       "Coarse Aggregate      float64\n",
       "Fine Aggregate        float64\n",
       "Age                   float64\n",
       "Strength              float64\n",
       "dtype: object"
      ]
     },
     "execution_count": 30,
     "metadata": {},
     "output_type": "execute_result"
    }
   ],
   "source": [
    "df2.astype('float64').dtypes"
   ]
  },
  {
   "cell_type": "code",
   "execution_count": 31,
   "id": "53f60333",
   "metadata": {},
   "outputs": [],
   "source": [
    "X_train, X_test, y_train, y_test = train_test_split(X, y, test_size=0.1,random_state=42)"
   ]
  },
  {
   "cell_type": "code",
   "execution_count": 32,
   "id": "2ed520e4",
   "metadata": {},
   "outputs": [],
   "source": [
    "scaler = MinMaxScaler()\n",
    "X_train = scaler.fit_transform(X_train)\n",
    "X_test = scaler.fit_transform(X_test)"
   ]
  },
  {
   "cell_type": "code",
   "execution_count": 33,
   "id": "c323188f",
   "metadata": {},
   "outputs": [
    {
     "data": {
      "text/plain": [
       "array([[0.48105023, 0.        , 0.44968051, 0.49844479, 0.57761628,\n",
       "        0.57250376, 0.14124294],\n",
       "       [0.50342466, 0.41346689, 0.51118211, 0.51378513, 0.43604651,\n",
       "        0.28976417, 0.14124294],\n",
       "       [0.33059361, 0.        , 0.17172524, 0.6104677 , 0.83081395,\n",
       "        0.51906673, 0.        ],\n",
       "       [0.63356164, 0.42070117, 0.25638978, 0.70270109, 0.96889535,\n",
       "        0.02759659, 0.02259887],\n",
       "       [0.25114155, 0.39315526, 0.65255591, 0.        , 0.50116279,\n",
       "        0.39136979, 0.49152542]])"
      ]
     },
     "execution_count": 33,
     "metadata": {},
     "output_type": "execute_result"
    }
   ],
   "source": [
    "X_train[:5]"
   ]
  },
  {
   "cell_type": "code",
   "execution_count": 34,
   "id": "c1623326",
   "metadata": {},
   "outputs": [],
   "source": [
    "import tensorflow as tf\n",
    "from tensorflow import keras\n",
    "import matplotlib.pyplot as plt\n",
    "%matplotlib inline\n",
    "import numpy as np\n",
    "from keras.models import Sequential\n",
    "from keras.layers import Dense"
   ]
  },
  {
   "cell_type": "code",
   "execution_count": 35,
   "id": "414679ba",
   "metadata": {},
   "outputs": [],
   "source": [
    "model=Sequential()\n",
    "model.add(Dense(12, input_dim=7, activation=\"relu\"))\n",
    "model.add(Dense(12, activation=\"relu\"))\n",
    "model.add(Dense(12, activation=\"relu\"))\n",
    "model.add(Dense(1))"
   ]
  },
  {
   "cell_type": "code",
   "execution_count": 36,
   "id": "52144c49",
   "metadata": {},
   "outputs": [],
   "source": [
    "model.compile(loss=\"mean_squared_error\", optimizer=\"adam\", metrics=[\"mean_squared_error\"])"
   ]
  },
  {
   "cell_type": "code",
   "execution_count": 37,
   "id": "7286ace3",
   "metadata": {},
   "outputs": [
    {
     "name": "stdout",
     "output_type": "stream",
     "text": [
      "Epoch 1/200\n",
      "90/90 [==============================] - 1s 2ms/step - loss: 1498.1743 - mean_squared_error: 1498.1743\n",
      "Epoch 2/200\n",
      "90/90 [==============================] - 0s 1ms/step - loss: 1255.2604 - mean_squared_error: 1255.2604\n",
      "Epoch 3/200\n",
      "90/90 [==============================] - 0s 919us/step - loss: 567.5641 - mean_squared_error: 567.5641\n",
      "Epoch 4/200\n",
      "90/90 [==============================] - 0s 919us/step - loss: 206.5438 - mean_squared_error: 206.5438\n",
      "Epoch 5/200\n",
      "90/90 [==============================] - 0s 908us/step - loss: 186.6143 - mean_squared_error: 186.6143\n",
      "Epoch 6/200\n",
      "90/90 [==============================] - 0s 1ms/step - loss: 164.8123 - mean_squared_error: 164.8123\n",
      "Epoch 7/200\n",
      "90/90 [==============================] - 0s 1ms/step - loss: 139.7857 - mean_squared_error: 139.7857\n",
      "Epoch 8/200\n",
      "90/90 [==============================] - 0s 1ms/step - loss: 120.1472 - mean_squared_error: 120.1472\n",
      "Epoch 9/200\n",
      "90/90 [==============================] - 0s 1ms/step - loss: 104.6701 - mean_squared_error: 104.6701\n",
      "Epoch 10/200\n",
      "90/90 [==============================] - 0s 1ms/step - loss: 93.4332 - mean_squared_error: 93.4332\n",
      "Epoch 11/200\n",
      "90/90 [==============================] - 0s 1ms/step - loss: 86.4798 - mean_squared_error: 86.4798\n",
      "Epoch 12/200\n",
      "90/90 [==============================] - 0s 1ms/step - loss: 82.7111 - mean_squared_error: 82.7111\n",
      "Epoch 13/200\n",
      "90/90 [==============================] - 0s 952us/step - loss: 79.5628 - mean_squared_error: 79.5628\n",
      "Epoch 14/200\n",
      "90/90 [==============================] - 0s 885us/step - loss: 77.2030 - mean_squared_error: 77.2030\n",
      "Epoch 15/200\n",
      "90/90 [==============================] - 0s 919us/step - loss: 75.0056 - mean_squared_error: 75.0056\n",
      "Epoch 16/200\n",
      "90/90 [==============================] - 0s 930us/step - loss: 73.7781 - mean_squared_error: 73.7781\n",
      "Epoch 17/200\n",
      "90/90 [==============================] - 0s 919us/step - loss: 72.5120 - mean_squared_error: 72.5120\n",
      "Epoch 18/200\n",
      "90/90 [==============================] - 0s 953us/step - loss: 71.4634 - mean_squared_error: 71.4634\n",
      "Epoch 19/200\n",
      "90/90 [==============================] - 0s 964us/step - loss: 70.4507 - mean_squared_error: 70.4507\n",
      "Epoch 20/200\n",
      "90/90 [==============================] - 0s 997us/step - loss: 69.8153 - mean_squared_error: 69.8153\n",
      "Epoch 21/200\n",
      "90/90 [==============================] - 0s 1ms/step - loss: 68.5706 - mean_squared_error: 68.5706\n",
      "Epoch 22/200\n",
      "90/90 [==============================] - 0s 1ms/step - loss: 67.4848 - mean_squared_error: 67.4848\n",
      "Epoch 23/200\n",
      "90/90 [==============================] - 0s 953us/step - loss: 66.4504 - mean_squared_error: 66.4504\n",
      "Epoch 24/200\n",
      "90/90 [==============================] - 0s 1ms/step - loss: 66.2015 - mean_squared_error: 66.2015\n",
      "Epoch 25/200\n",
      "90/90 [==============================] - 0s 953us/step - loss: 65.2217 - mean_squared_error: 65.2217\n",
      "Epoch 26/200\n",
      "90/90 [==============================] - 0s 997us/step - loss: 63.7634 - mean_squared_error: 63.7634\n",
      "Epoch 27/200\n",
      "90/90 [==============================] - 0s 964us/step - loss: 63.3507 - mean_squared_error: 63.3507\n",
      "Epoch 28/200\n",
      "90/90 [==============================] - 0s 1ms/step - loss: 62.6919 - mean_squared_error: 62.6919\n",
      "Epoch 29/200\n",
      "90/90 [==============================] - 0s 986us/step - loss: 61.3433 - mean_squared_error: 61.3433\n",
      "Epoch 30/200\n",
      "90/90 [==============================] - 0s 975us/step - loss: 60.6683 - mean_squared_error: 60.6683\n",
      "Epoch 31/200\n",
      "90/90 [==============================] - 0s 941us/step - loss: 60.1565 - mean_squared_error: 60.1565\n",
      "Epoch 32/200\n",
      "90/90 [==============================] - 0s 1ms/step - loss: 59.2180 - mean_squared_error: 59.2180\n",
      "Epoch 33/200\n",
      "90/90 [==============================] - 0s 997us/step - loss: 58.7350 - mean_squared_error: 58.7350\n",
      "Epoch 34/200\n",
      "90/90 [==============================] - 0s 1ms/step - loss: 57.6663 - mean_squared_error: 57.6663\n",
      "Epoch 35/200\n",
      "90/90 [==============================] - 0s 986us/step - loss: 56.8084 - mean_squared_error: 56.8084\n",
      "Epoch 36/200\n",
      "90/90 [==============================] - 0s 1ms/step - loss: 55.9123 - mean_squared_error: 55.9123\n",
      "Epoch 37/200\n",
      "90/90 [==============================] - 0s 952us/step - loss: 55.7120 - mean_squared_error: 55.7120\n",
      "Epoch 38/200\n",
      "90/90 [==============================] - 0s 941us/step - loss: 54.8854 - mean_squared_error: 54.8854\n",
      "Epoch 39/200\n",
      "90/90 [==============================] - 0s 952us/step - loss: 54.3445 - mean_squared_error: 54.3445\n",
      "Epoch 40/200\n",
      "90/90 [==============================] - 0s 1ms/step - loss: 53.6186 - mean_squared_error: 53.6186\n",
      "Epoch 41/200\n",
      "90/90 [==============================] - 0s 1ms/step - loss: 53.3961 - mean_squared_error: 53.3961\n",
      "Epoch 42/200\n",
      "90/90 [==============================] - 0s 1ms/step - loss: 52.6654 - mean_squared_error: 52.6654\n",
      "Epoch 43/200\n",
      "90/90 [==============================] - 0s 964us/step - loss: 52.9337 - mean_squared_error: 52.9337\n",
      "Epoch 44/200\n",
      "90/90 [==============================] - 0s 1ms/step - loss: 52.0951 - mean_squared_error: 52.0951\n",
      "Epoch 45/200\n",
      "90/90 [==============================] - 0s 1ms/step - loss: 51.8163 - mean_squared_error: 51.8163\n",
      "Epoch 46/200\n",
      "90/90 [==============================] - 0s 986us/step - loss: 51.0443 - mean_squared_error: 51.0443\n",
      "Epoch 47/200\n",
      "90/90 [==============================] - 0s 1ms/step - loss: 51.0293 - mean_squared_error: 51.0293\n",
      "Epoch 48/200\n",
      "90/90 [==============================] - 0s 908us/step - loss: 50.6677 - mean_squared_error: 50.6678\n",
      "Epoch 49/200\n",
      "90/90 [==============================] - 0s 953us/step - loss: 50.2586 - mean_squared_error: 50.2586\n",
      "Epoch 50/200\n",
      "90/90 [==============================] - 0s 896us/step - loss: 49.8198 - mean_squared_error: 49.8198\n",
      "Epoch 51/200\n",
      "90/90 [==============================] - 0s 874us/step - loss: 49.8293 - mean_squared_error: 49.8293\n",
      "Epoch 52/200\n",
      "90/90 [==============================] - 0s 908us/step - loss: 49.2700 - mean_squared_error: 49.2700\n",
      "Epoch 53/200\n",
      "90/90 [==============================] - 0s 874us/step - loss: 49.1100 - mean_squared_error: 49.1100\n",
      "Epoch 54/200\n",
      "90/90 [==============================] - 0s 852us/step - loss: 48.7993 - mean_squared_error: 48.7993\n",
      "Epoch 55/200\n",
      "90/90 [==============================] - 0s 941us/step - loss: 48.3694 - mean_squared_error: 48.3694\n",
      "Epoch 56/200\n",
      "90/90 [==============================] - 0s 941us/step - loss: 48.4775 - mean_squared_error: 48.4775\n",
      "Epoch 57/200\n",
      "90/90 [==============================] - 0s 1ms/step - loss: 48.1780 - mean_squared_error: 48.1780\n",
      "Epoch 58/200\n",
      "90/90 [==============================] - 0s 997us/step - loss: 48.0316 - mean_squared_error: 48.0316\n",
      "Epoch 59/200\n",
      "90/90 [==============================] - 0s 997us/step - loss: 47.7903 - mean_squared_error: 47.7903\n",
      "Epoch 60/200\n",
      "90/90 [==============================] - 0s 953us/step - loss: 48.0283 - mean_squared_error: 48.0283\n",
      "Epoch 61/200\n",
      "90/90 [==============================] - 0s 975us/step - loss: 47.5909 - mean_squared_error: 47.5909\n",
      "Epoch 62/200\n",
      "90/90 [==============================] - 0s 1ms/step - loss: 47.5870 - mean_squared_error: 47.5870\n",
      "Epoch 63/200\n",
      "90/90 [==============================] - 0s 997us/step - loss: 47.0861 - mean_squared_error: 47.0861\n",
      "Epoch 64/200\n",
      "90/90 [==============================] - 0s 953us/step - loss: 47.2557 - mean_squared_error: 47.2557\n",
      "Epoch 65/200\n",
      "90/90 [==============================] - 0s 997us/step - loss: 47.1268 - mean_squared_error: 47.1268\n",
      "Epoch 66/200\n",
      "90/90 [==============================] - 0s 952us/step - loss: 47.0988 - mean_squared_error: 47.0988\n",
      "Epoch 67/200\n",
      "90/90 [==============================] - 0s 953us/step - loss: 47.2365 - mean_squared_error: 47.2365\n",
      "Epoch 68/200\n",
      "90/90 [==============================] - 0s 942us/step - loss: 46.9844 - mean_squared_error: 46.9844\n",
      "Epoch 69/200\n",
      "90/90 [==============================] - 0s 986us/step - loss: 47.3136 - mean_squared_error: 47.3136\n",
      "Epoch 70/200\n",
      "90/90 [==============================] - 0s 986us/step - loss: 46.7003 - mean_squared_error: 46.7003\n",
      "Epoch 71/200\n",
      "90/90 [==============================] - 0s 964us/step - loss: 46.1989 - mean_squared_error: 46.1989\n",
      "Epoch 72/200\n",
      "90/90 [==============================] - 0s 998us/step - loss: 46.5997 - mean_squared_error: 46.5997\n",
      "Epoch 73/200\n"
     ]
    },
    {
     "name": "stdout",
     "output_type": "stream",
     "text": [
      "90/90 [==============================] - 0s 964us/step - loss: 46.3929 - mean_squared_error: 46.3929\n",
      "Epoch 74/200\n",
      "90/90 [==============================] - 0s 964us/step - loss: 46.0991 - mean_squared_error: 46.0991\n",
      "Epoch 75/200\n",
      "90/90 [==============================] - 0s 896us/step - loss: 46.1465 - mean_squared_error: 46.1465\n",
      "Epoch 76/200\n",
      "90/90 [==============================] - 0s 941us/step - loss: 45.9649 - mean_squared_error: 45.9649\n",
      "Epoch 77/200\n",
      "90/90 [==============================] - 0s 919us/step - loss: 45.9917 - mean_squared_error: 45.9917\n",
      "Epoch 78/200\n",
      "90/90 [==============================] - 0s 942us/step - loss: 45.5732 - mean_squared_error: 45.5732\n",
      "Epoch 79/200\n",
      "90/90 [==============================] - 0s 885us/step - loss: 45.5975 - mean_squared_error: 45.5975\n",
      "Epoch 80/200\n",
      "90/90 [==============================] - 0s 942us/step - loss: 45.4657 - mean_squared_error: 45.4657\n",
      "Epoch 81/200\n",
      "90/90 [==============================] - 0s 930us/step - loss: 45.4482 - mean_squared_error: 45.4482\n",
      "Epoch 82/200\n",
      "90/90 [==============================] - 0s 975us/step - loss: 45.4693 - mean_squared_error: 45.4693\n",
      "Epoch 83/200\n",
      "90/90 [==============================] - 0s 1ms/step - loss: 45.5629 - mean_squared_error: 45.5629\n",
      "Epoch 84/200\n",
      "90/90 [==============================] - 0s 1ms/step - loss: 45.1604 - mean_squared_error: 45.1604\n",
      "Epoch 85/200\n",
      "90/90 [==============================] - 0s 1ms/step - loss: 46.2997 - mean_squared_error: 46.2997\n",
      "Epoch 86/200\n",
      "90/90 [==============================] - 0s 1ms/step - loss: 45.4309 - mean_squared_error: 45.4309\n",
      "Epoch 87/200\n",
      "90/90 [==============================] - 0s 997us/step - loss: 45.0727 - mean_squared_error: 45.0727\n",
      "Epoch 88/200\n",
      "90/90 [==============================] - 0s 863us/step - loss: 45.0286 - mean_squared_error: 45.0286\n",
      "Epoch 89/200\n",
      "90/90 [==============================] - 0s 941us/step - loss: 44.7633 - mean_squared_error: 44.7633\n",
      "Epoch 90/200\n",
      "90/90 [==============================] - 0s 975us/step - loss: 45.2750 - mean_squared_error: 45.2750\n",
      "Epoch 91/200\n",
      "90/90 [==============================] - 0s 930us/step - loss: 44.8041 - mean_squared_error: 44.8041\n",
      "Epoch 92/200\n",
      "90/90 [==============================] - 0s 1ms/step - loss: 44.9575 - mean_squared_error: 44.9575\n",
      "Epoch 93/200\n",
      "90/90 [==============================] - 0s 1ms/step - loss: 44.7740 - mean_squared_error: 44.7740\n",
      "Epoch 94/200\n",
      "90/90 [==============================] - 0s 930us/step - loss: 45.1317 - mean_squared_error: 45.1317\n",
      "Epoch 95/200\n",
      "90/90 [==============================] - 0s 919us/step - loss: 44.8533 - mean_squared_error: 44.8533\n",
      "Epoch 96/200\n",
      "90/90 [==============================] - 0s 953us/step - loss: 44.8038 - mean_squared_error: 44.8038\n",
      "Epoch 97/200\n",
      "90/90 [==============================] - 0s 1ms/step - loss: 44.5914 - mean_squared_error: 44.5914\n",
      "Epoch 98/200\n",
      "90/90 [==============================] - 0s 1ms/step - loss: 44.8718 - mean_squared_error: 44.8718\n",
      "Epoch 99/200\n",
      "90/90 [==============================] - 0s 1ms/step - loss: 44.9131 - mean_squared_error: 44.9131\n",
      "Epoch 100/200\n",
      "90/90 [==============================] - 0s 1ms/step - loss: 44.2050 - mean_squared_error: 44.2050\n",
      "Epoch 101/200\n",
      "90/90 [==============================] - 0s 1ms/step - loss: 44.0385 - mean_squared_error: 44.0385\n",
      "Epoch 102/200\n",
      "90/90 [==============================] - 0s 919us/step - loss: 44.2177 - mean_squared_error: 44.2177\n",
      "Epoch 103/200\n",
      "90/90 [==============================] - 0s 908us/step - loss: 44.3174 - mean_squared_error: 44.3174\n",
      "Epoch 104/200\n",
      "90/90 [==============================] - 0s 908us/step - loss: 44.1209 - mean_squared_error: 44.1209\n",
      "Epoch 105/200\n",
      "90/90 [==============================] - 0s 986us/step - loss: 44.1038 - mean_squared_error: 44.1038\n",
      "Epoch 106/200\n",
      "90/90 [==============================] - 0s 930us/step - loss: 43.9640 - mean_squared_error: 43.9640\n",
      "Epoch 107/200\n",
      "90/90 [==============================] - 0s 997us/step - loss: 43.8897 - mean_squared_error: 43.8897\n",
      "Epoch 108/200\n",
      "90/90 [==============================] - 0s 975us/step - loss: 43.9261 - mean_squared_error: 43.9261\n",
      "Epoch 109/200\n",
      "90/90 [==============================] - 0s 941us/step - loss: 44.0944 - mean_squared_error: 44.0944\n",
      "Epoch 110/200\n",
      "90/90 [==============================] - 0s 941us/step - loss: 44.2173 - mean_squared_error: 44.2173\n",
      "Epoch 111/200\n",
      "90/90 [==============================] - 0s 953us/step - loss: 44.0260 - mean_squared_error: 44.0260\n",
      "Epoch 112/200\n",
      "90/90 [==============================] - 0s 1ms/step - loss: 43.6592 - mean_squared_error: 43.6592\n",
      "Epoch 113/200\n",
      "90/90 [==============================] - 0s 1ms/step - loss: 43.5945 - mean_squared_error: 43.5945\n",
      "Epoch 114/200\n",
      "90/90 [==============================] - 0s 1ms/step - loss: 43.9256 - mean_squared_error: 43.9256\n",
      "Epoch 115/200\n",
      "90/90 [==============================] - 0s 1ms/step - loss: 43.3018 - mean_squared_error: 43.3018\n",
      "Epoch 116/200\n",
      "90/90 [==============================] - 0s 952us/step - loss: 43.2306 - mean_squared_error: 43.2306\n",
      "Epoch 117/200\n",
      "90/90 [==============================] - 0s 896us/step - loss: 43.3715 - mean_squared_error: 43.3715\n",
      "Epoch 118/200\n",
      "90/90 [==============================] - 0s 908us/step - loss: 43.1154 - mean_squared_error: 43.1154\n",
      "Epoch 119/200\n",
      "90/90 [==============================] - 0s 1ms/step - loss: 43.2221 - mean_squared_error: 43.2221\n",
      "Epoch 120/200\n",
      "90/90 [==============================] - 0s 1ms/step - loss: 43.1122 - mean_squared_error: 43.1122\n",
      "Epoch 121/200\n",
      "90/90 [==============================] - 0s 1ms/step - loss: 43.1300 - mean_squared_error: 43.1300\n",
      "Epoch 122/200\n",
      "90/90 [==============================] - 0s 908us/step - loss: 42.8781 - mean_squared_error: 42.8781\n",
      "Epoch 123/200\n",
      "90/90 [==============================] - 0s 941us/step - loss: 42.7630 - mean_squared_error: 42.7630\n",
      "Epoch 124/200\n",
      "90/90 [==============================] - 0s 1ms/step - loss: 42.7605 - mean_squared_error: 42.7605\n",
      "Epoch 125/200\n",
      "90/90 [==============================] - 0s 863us/step - loss: 42.4168 - mean_squared_error: 42.4168\n",
      "Epoch 126/200\n",
      "90/90 [==============================] - 0s 919us/step - loss: 42.5430 - mean_squared_error: 42.5430\n",
      "Epoch 127/200\n",
      "90/90 [==============================] - 0s 953us/step - loss: 42.9871 - mean_squared_error: 42.9871\n",
      "Epoch 128/200\n",
      "90/90 [==============================] - 0s 1ms/step - loss: 43.3666 - mean_squared_error: 43.3666\n",
      "Epoch 129/200\n",
      "90/90 [==============================] - 0s 908us/step - loss: 42.8453 - mean_squared_error: 42.8453\n",
      "Epoch 130/200\n",
      "90/90 [==============================] - 0s 897us/step - loss: 42.8085 - mean_squared_error: 42.8085\n",
      "Epoch 131/200\n",
      "90/90 [==============================] - 0s 930us/step - loss: 42.6704 - mean_squared_error: 42.6704\n",
      "Epoch 132/200\n",
      "90/90 [==============================] - 0s 1ms/step - loss: 42.5659 - mean_squared_error: 42.5659\n",
      "Epoch 133/200\n",
      "90/90 [==============================] - 0s 919us/step - loss: 42.4045 - mean_squared_error: 42.4045\n",
      "Epoch 134/200\n",
      "90/90 [==============================] - 0s 964us/step - loss: 42.2995 - mean_squared_error: 42.2995\n",
      "Epoch 135/200\n",
      "90/90 [==============================] - 0s 986us/step - loss: 42.8073 - mean_squared_error: 42.8073\n",
      "Epoch 136/200\n",
      "90/90 [==============================] - 0s 1ms/step - loss: 42.4908 - mean_squared_error: 42.4908\n",
      "Epoch 137/200\n",
      "90/90 [==============================] - 0s 1ms/step - loss: 42.1475 - mean_squared_error: 42.1475\n",
      "Epoch 138/200\n",
      "90/90 [==============================] - 0s 953us/step - loss: 42.4737 - mean_squared_error: 42.4737\n",
      "Epoch 139/200\n",
      "90/90 [==============================] - 0s 964us/step - loss: 42.6138 - mean_squared_error: 42.6138\n",
      "Epoch 140/200\n",
      "90/90 [==============================] - 0s 1ms/step - loss: 41.9203 - mean_squared_error: 41.9203\n",
      "Epoch 141/200\n",
      "90/90 [==============================] - 0s 1ms/step - loss: 42.8426 - mean_squared_error: 42.8426\n",
      "Epoch 142/200\n",
      "90/90 [==============================] - 0s 1ms/step - loss: 41.9552 - mean_squared_error: 41.9552\n",
      "Epoch 143/200\n",
      "90/90 [==============================] - 0s 1ms/step - loss: 42.1955 - mean_squared_error: 42.1955\n",
      "Epoch 144/200\n",
      "90/90 [==============================] - 0s 952us/step - loss: 41.8445 - mean_squared_error: 41.8445\n",
      "Epoch 145/200\n"
     ]
    },
    {
     "name": "stdout",
     "output_type": "stream",
     "text": [
      "90/90 [==============================] - 0s 919us/step - loss: 41.6779 - mean_squared_error: 41.6779\n",
      "Epoch 146/200\n",
      "90/90 [==============================] - 0s 885us/step - loss: 42.1684 - mean_squared_error: 42.1684\n",
      "Epoch 147/200\n",
      "90/90 [==============================] - 0s 874us/step - loss: 41.5966 - mean_squared_error: 41.5966\n",
      "Epoch 148/200\n",
      "90/90 [==============================] - 0s 885us/step - loss: 42.0037 - mean_squared_error: 42.0037\n",
      "Epoch 149/200\n",
      "90/90 [==============================] - 0s 997us/step - loss: 41.8484 - mean_squared_error: 41.8484\n",
      "Epoch 150/200\n",
      "90/90 [==============================] - 0s 975us/step - loss: 41.5849 - mean_squared_error: 41.5849\n",
      "Epoch 151/200\n",
      "90/90 [==============================] - 0s 952us/step - loss: 41.4973 - mean_squared_error: 41.4973\n",
      "Epoch 152/200\n",
      "90/90 [==============================] - 0s 1ms/step - loss: 42.0856 - mean_squared_error: 42.0856\n",
      "Epoch 153/200\n",
      "90/90 [==============================] - 0s 986us/step - loss: 41.8482 - mean_squared_error: 41.8482\n",
      "Epoch 154/200\n",
      "90/90 [==============================] - 0s 986us/step - loss: 42.1355 - mean_squared_error: 42.1355\n",
      "Epoch 155/200\n",
      "90/90 [==============================] - 0s 953us/step - loss: 41.7891 - mean_squared_error: 41.7891\n",
      "Epoch 156/200\n",
      "90/90 [==============================] - 0s 964us/step - loss: 41.7798 - mean_squared_error: 41.7798\n",
      "Epoch 157/200\n",
      "90/90 [==============================] - 0s 1ms/step - loss: 41.5010 - mean_squared_error: 41.5010\n",
      "Epoch 158/200\n",
      "90/90 [==============================] - 0s 964us/step - loss: 41.2160 - mean_squared_error: 41.2160\n",
      "Epoch 159/200\n",
      "90/90 [==============================] - 0s 997us/step - loss: 41.2955 - mean_squared_error: 41.2955\n",
      "Epoch 160/200\n",
      "90/90 [==============================] - 0s 941us/step - loss: 40.8254 - mean_squared_error: 40.8254\n",
      "Epoch 161/200\n",
      "90/90 [==============================] - 0s 930us/step - loss: 41.4524 - mean_squared_error: 41.4524\n",
      "Epoch 162/200\n",
      "90/90 [==============================] - 0s 930us/step - loss: 41.4403 - mean_squared_error: 41.4403\n",
      "Epoch 163/200\n",
      "90/90 [==============================] - 0s 941us/step - loss: 41.0895 - mean_squared_error: 41.0895\n",
      "Epoch 164/200\n",
      "90/90 [==============================] - 0s 953us/step - loss: 41.5479 - mean_squared_error: 41.5479\n",
      "Epoch 165/200\n",
      "90/90 [==============================] - 0s 986us/step - loss: 41.3283 - mean_squared_error: 41.3283\n",
      "Epoch 166/200\n",
      "90/90 [==============================] - 0s 1ms/step - loss: 41.2154 - mean_squared_error: 41.2154\n",
      "Epoch 167/200\n",
      "90/90 [==============================] - 0s 1ms/step - loss: 40.8800 - mean_squared_error: 40.8800\n",
      "Epoch 168/200\n",
      "90/90 [==============================] - 0s 919us/step - loss: 41.6676 - mean_squared_error: 41.6676\n",
      "Epoch 169/200\n",
      "90/90 [==============================] - 0s 986us/step - loss: 40.8457 - mean_squared_error: 40.8457\n",
      "Epoch 170/200\n",
      "90/90 [==============================] - 0s 986us/step - loss: 41.2394 - mean_squared_error: 41.2394\n",
      "Epoch 171/200\n",
      "90/90 [==============================] - 0s 997us/step - loss: 40.6283 - mean_squared_error: 40.6283\n",
      "Epoch 172/200\n",
      "90/90 [==============================] - 0s 975us/step - loss: 41.1001 - mean_squared_error: 41.1001\n",
      "Epoch 173/200\n",
      "90/90 [==============================] - 0s 941us/step - loss: 41.0369 - mean_squared_error: 41.0369\n",
      "Epoch 174/200\n",
      "90/90 [==============================] - 0s 952us/step - loss: 40.5780 - mean_squared_error: 40.5780\n",
      "Epoch 175/200\n",
      "90/90 [==============================] - 0s 1ms/step - loss: 40.4042 - mean_squared_error: 40.4042\n",
      "Epoch 176/200\n",
      "90/90 [==============================] - 0s 1ms/step - loss: 40.5113 - mean_squared_error: 40.5113\n",
      "Epoch 177/200\n",
      "90/90 [==============================] - 0s 1ms/step - loss: 40.3311 - mean_squared_error: 40.3311\n",
      "Epoch 178/200\n",
      "90/90 [==============================] - 0s 1ms/step - loss: 40.7583 - mean_squared_error: 40.7583\n",
      "Epoch 179/200\n",
      "90/90 [==============================] - 0s 1ms/step - loss: 40.3810 - mean_squared_error: 40.3810\n",
      "Epoch 180/200\n",
      "90/90 [==============================] - 0s 975us/step - loss: 40.5735 - mean_squared_error: 40.5735\n",
      "Epoch 181/200\n",
      "90/90 [==============================] - 0s 1ms/step - loss: 40.7329 - mean_squared_error: 40.7329\n",
      "Epoch 182/200\n",
      "90/90 [==============================] - 0s 941us/step - loss: 40.1730 - mean_squared_error: 40.1730\n",
      "Epoch 183/200\n",
      "90/90 [==============================] - 0s 930us/step - loss: 40.7834 - mean_squared_error: 40.7834\n",
      "Epoch 184/200\n",
      "90/90 [==============================] - 0s 930us/step - loss: 40.1903 - mean_squared_error: 40.1903\n",
      "Epoch 185/200\n",
      "90/90 [==============================] - 0s 919us/step - loss: 40.1465 - mean_squared_error: 40.1465\n",
      "Epoch 186/200\n",
      "90/90 [==============================] - 0s 975us/step - loss: 40.1378 - mean_squared_error: 40.1378\n",
      "Epoch 187/200\n",
      "90/90 [==============================] - 0s 919us/step - loss: 39.7725 - mean_squared_error: 39.7725\n",
      "Epoch 188/200\n",
      "90/90 [==============================] - 0s 941us/step - loss: 40.1113 - mean_squared_error: 40.1113\n",
      "Epoch 189/200\n",
      "90/90 [==============================] - 0s 964us/step - loss: 39.7951 - mean_squared_error: 39.7951\n",
      "Epoch 190/200\n",
      "90/90 [==============================] - 0s 964us/step - loss: 40.1674 - mean_squared_error: 40.1674\n",
      "Epoch 191/200\n",
      "90/90 [==============================] - 0s 953us/step - loss: 39.9956 - mean_squared_error: 39.9956\n",
      "Epoch 192/200\n",
      "90/90 [==============================] - 0s 930us/step - loss: 39.9754 - mean_squared_error: 39.9754\n",
      "Epoch 193/200\n",
      "90/90 [==============================] - 0s 930us/step - loss: 39.6703 - mean_squared_error: 39.6703\n",
      "Epoch 194/200\n",
      "90/90 [==============================] - 0s 997us/step - loss: 40.5906 - mean_squared_error: 40.5906\n",
      "Epoch 195/200\n",
      "90/90 [==============================] - 0s 953us/step - loss: 39.6545 - mean_squared_error: 39.6545\n",
      "Epoch 196/200\n",
      "90/90 [==============================] - 0s 886us/step - loss: 39.8755 - mean_squared_error: 39.8755\n",
      "Epoch 197/200\n",
      "90/90 [==============================] - 0s 1ms/step - loss: 39.4498 - mean_squared_error: 39.4498\n",
      "Epoch 198/200\n",
      "90/90 [==============================] - 0s 1ms/step - loss: 39.5983 - mean_squared_error: 39.5983\n",
      "Epoch 199/200\n",
      "90/90 [==============================] - 0s 1ms/step - loss: 39.4869 - mean_squared_error: 39.4869\n",
      "Epoch 200/200\n",
      "90/90 [==============================] - 0s 953us/step - loss: 39.4189 - mean_squared_error: 39.4189\n"
     ]
    },
    {
     "data": {
      "text/plain": [
       "<keras.callbacks.History at 0x20e4598faf0>"
      ]
     },
     "execution_count": 37,
     "metadata": {},
     "output_type": "execute_result"
    }
   ],
   "source": [
    "model.fit(X_train,y_train, epochs=200, batch_size=10)"
   ]
  },
  {
   "cell_type": "code",
   "execution_count": 38,
   "id": "38aee201",
   "metadata": {},
   "outputs": [],
   "source": [
    "#540.0\t0.0\t162.0\t1.581139\t1040.0\t676.0\t28"
   ]
  },
  {
   "cell_type": "code",
   "execution_count": 39,
   "id": "2bb8041c",
   "metadata": {},
   "outputs": [
    {
     "data": {
      "text/html": [
       "<div>\n",
       "<style scoped>\n",
       "    .dataframe tbody tr th:only-of-type {\n",
       "        vertical-align: middle;\n",
       "    }\n",
       "\n",
       "    .dataframe tbody tr th {\n",
       "        vertical-align: top;\n",
       "    }\n",
       "\n",
       "    .dataframe thead th {\n",
       "        text-align: right;\n",
       "    }\n",
       "</style>\n",
       "<table border=\"1\" class=\"dataframe\">\n",
       "  <thead>\n",
       "    <tr style=\"text-align: right;\">\n",
       "      <th></th>\n",
       "      <th>Strength</th>\n",
       "    </tr>\n",
       "  </thead>\n",
       "  <tbody>\n",
       "    <tr>\n",
       "      <th>955</th>\n",
       "      <td>32.25</td>\n",
       "    </tr>\n",
       "    <tr>\n",
       "      <th>547</th>\n",
       "      <td>23.40</td>\n",
       "    </tr>\n",
       "    <tr>\n",
       "      <th>589</th>\n",
       "      <td>31.90</td>\n",
       "    </tr>\n",
       "    <tr>\n",
       "      <th>684</th>\n",
       "      <td>50.73</td>\n",
       "    </tr>\n",
       "    <tr>\n",
       "      <th>660</th>\n",
       "      <td>31.02</td>\n",
       "    </tr>\n",
       "    <tr>\n",
       "      <th>451</th>\n",
       "      <td>53.46</td>\n",
       "    </tr>\n",
       "    <tr>\n",
       "      <th>892</th>\n",
       "      <td>32.24</td>\n",
       "    </tr>\n",
       "    <tr>\n",
       "      <th>739</th>\n",
       "      <td>25.18</td>\n",
       "    </tr>\n",
       "    <tr>\n",
       "      <th>196</th>\n",
       "      <td>25.72</td>\n",
       "    </tr>\n",
       "    <tr>\n",
       "      <th>631</th>\n",
       "      <td>17.54</td>\n",
       "    </tr>\n",
       "  </tbody>\n",
       "</table>\n",
       "</div>"
      ],
      "text/plain": [
       "     Strength\n",
       "955     32.25\n",
       "547     23.40\n",
       "589     31.90\n",
       "684     50.73\n",
       "660     31.02\n",
       "451     53.46\n",
       "892     32.24\n",
       "739     25.18\n",
       "196     25.72\n",
       "631     17.54"
      ]
     },
     "execution_count": 39,
     "metadata": {},
     "output_type": "execute_result"
    }
   ],
   "source": [
    "y_d1=y_test[:10]\n",
    "y_d1"
   ]
  },
  {
   "cell_type": "code",
   "execution_count": 40,
   "id": "b9c888da",
   "metadata": {},
   "outputs": [
    {
     "data": {
      "text/html": [
       "<div>\n",
       "<style scoped>\n",
       "    .dataframe tbody tr th:only-of-type {\n",
       "        vertical-align: middle;\n",
       "    }\n",
       "\n",
       "    .dataframe tbody tr th {\n",
       "        vertical-align: top;\n",
       "    }\n",
       "\n",
       "    .dataframe thead th {\n",
       "        text-align: right;\n",
       "    }\n",
       "</style>\n",
       "<table border=\"1\" class=\"dataframe\">\n",
       "  <thead>\n",
       "    <tr style=\"text-align: right;\">\n",
       "      <th></th>\n",
       "      <th>predicted</th>\n",
       "    </tr>\n",
       "  </thead>\n",
       "  <tbody>\n",
       "    <tr>\n",
       "      <th>0</th>\n",
       "      <td>29.471563</td>\n",
       "    </tr>\n",
       "    <tr>\n",
       "      <th>1</th>\n",
       "      <td>18.247055</td>\n",
       "    </tr>\n",
       "    <tr>\n",
       "      <th>2</th>\n",
       "      <td>33.276852</td>\n",
       "    </tr>\n",
       "    <tr>\n",
       "      <th>3</th>\n",
       "      <td>55.741154</td>\n",
       "    </tr>\n",
       "    <tr>\n",
       "      <th>4</th>\n",
       "      <td>37.433186</td>\n",
       "    </tr>\n",
       "    <tr>\n",
       "      <th>5</th>\n",
       "      <td>46.873444</td>\n",
       "    </tr>\n",
       "    <tr>\n",
       "      <th>6</th>\n",
       "      <td>29.617775</td>\n",
       "    </tr>\n",
       "    <tr>\n",
       "      <th>7</th>\n",
       "      <td>27.113789</td>\n",
       "    </tr>\n",
       "    <tr>\n",
       "      <th>8</th>\n",
       "      <td>33.053505</td>\n",
       "    </tr>\n",
       "    <tr>\n",
       "      <th>9</th>\n",
       "      <td>18.989189</td>\n",
       "    </tr>\n",
       "  </tbody>\n",
       "</table>\n",
       "</div>"
      ],
      "text/plain": [
       "   predicted\n",
       "0  29.471563\n",
       "1  18.247055\n",
       "2  33.276852\n",
       "3  55.741154\n",
       "4  37.433186\n",
       "5  46.873444\n",
       "6  29.617775\n",
       "7  27.113789\n",
       "8  33.053505\n",
       "9  18.989189"
      ]
     },
     "execution_count": 40,
     "metadata": {},
     "output_type": "execute_result"
    }
   ],
   "source": [
    "y_pred=model.predict(X_test)\n",
    "y_pred=pd.DataFrame(y_pred)\n",
    "y_pred.rename(columns = {0:'predicted'}, inplace = True)\n",
    "y_p1=y_pred[:10]\n",
    "y_p1"
   ]
  },
  {
   "cell_type": "code",
   "execution_count": 41,
   "id": "4e4e2ecd",
   "metadata": {},
   "outputs": [
    {
     "data": {
      "text/plain": [
       "(995, 8)"
      ]
     },
     "execution_count": 41,
     "metadata": {},
     "output_type": "execute_result"
    }
   ],
   "source": [
    "df2.shape"
   ]
  },
  {
   "cell_type": "code",
   "execution_count": 42,
   "id": "bfc61a19",
   "metadata": {},
   "outputs": [
    {
     "data": {
      "image/png": "[encoded data removed]",
      "text/plain": [
       "<Figure size 432x288 with 1 Axes>"
      ]
     },
     "metadata": {
      "needs_background": "light"
     },
     "output_type": "display_data"
    }
   ],
   "source": [
    "plt.plot(range(len(y_test)), y_test, color=\"blue\", label=\"Actual values\")\n",
    "plt.plot(range(len(y_pred)),y_pred,color=\"red\", label=\"Predicted values\")\n",
    "plt.xlabel(\"X_test\")\n",
    "plt.ylabel(\"y_pred\")\n",
    "plt.legend()\n",
    "plt.show()"
   ]
  },
  {
   "cell_type": "code",
   "execution_count": 43,
   "id": "541c3568",
   "metadata": {},
   "outputs": [
    {
     "data": {
      "text/plain": [
       "'predicted'"
      ]
     },
     "execution_count": 43,
     "metadata": {},
     "output_type": "execute_result"
    }
   ],
   "source": [
    "max(y_pred)"
   ]
  },
  {
   "cell_type": "code",
   "execution_count": 44,
   "id": "ee61a076",
   "metadata": {},
   "outputs": [],
   "source": [
    "y_pred=pd.DataFrame(y_pred)"
   ]
  }
 ],
 "metadata": {
  "kernelspec": {
   "display_name": "Python 3",
   "language": "python",
   "name": "python3"
  },
  "language_info": {
   "codemirror_mode": {
    "name": "ipython",
    "version": 3
   },
   "file_extension": ".py",
   "mimetype": "text/x-python",
   "name": "python",
   "nbconvert_exporter": "python",
   "pygments_lexer": "ipython3",
   "version": "3.8.8"
  }
 },
 "nbformat": 4,
 "nbformat_minor": 5
}
